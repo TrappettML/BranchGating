{
 "cells": [
  {
   "cell_type": "code",
   "execution_count": 3,
   "metadata": {},
   "outputs": [],
   "source": [
    "import os"
   ]
  },
  {
   "cell_type": "code",
   "execution_count": 4,
   "metadata": {},
   "outputs": [],
   "source": [
    "\n",
    "def check_non_empty_json_files(directory):\n",
    "    # List to hold paths of non-empty JSON files\n",
    "    non_empty_files = []\n",
    "\n",
    "    # Walk through the directory structure\n",
    "    for root, dirs, files in os.walk(directory):\n",
    "        # print(f'Checking {root}')\n",
    "        for file in files:\n",
    "            if file == 'result.json':  # Check if the file is the one we're interested in\n",
    "                file_path = os.path.join(root, file)  # Full path to the file\n",
    "                if os.path.getsize(file_path) > 0:  # Check if the file is not empty\n",
    "                    non_empty_files.append(file_path)\n",
    "\n",
    "    return non_empty_files\n"
   ]
  },
  {
   "cell_type": "code",
   "execution_count": 5,
   "metadata": {},
   "outputs": [
    {
     "name": "stdout",
     "output_type": "stream",
     "text": [
      "No non-empty result.json files found.\n"
     ]
    }
   ],
   "source": [
    "\n",
    "# Define the base directory to start from\n",
    "base_directory = '/home/users/MTrappett/mtrl/BranchGatingProject/branchNetwork/data/hyper_search/branch_search/'\n",
    "\n",
    "# Call the function\n",
    "non_empty_result_json_files = check_non_empty_json_files(base_directory)\n",
    "\n",
    "# Print out the non-empty files\n",
    "if non_empty_result_json_files:\n",
    "    print(\"Non-empty result.json files found:\")\n",
    "    for file in non_empty_result_json_files:\n",
    "        print(file)\n",
    "else:\n",
    "    print(\"No non-empty result.json files found.\")"
   ]
  },
  {
   "cell_type": "code",
   "execution_count": 6,
   "metadata": {},
   "outputs": [
    {
     "name": "stdout",
     "output_type": "stream",
     "text": [
      "[]\n"
     ]
    }
   ],
   "source": []
  },
  {
   "cell_type": "code",
   "execution_count": null,
   "metadata": {},
   "outputs": [],
   "source": []
  }
 ],
 "metadata": {
  "kernelspec": {
   "display_name": "data-science",
   "language": "python",
   "name": "python3"
  },
  "language_info": {
   "codemirror_mode": {
    "name": "ipython",
    "version": 3
   },
   "file_extension": ".py",
   "mimetype": "text/x-python",
   "name": "python",
   "nbconvert_exporter": "python",
   "pygments_lexer": "ipython3",
   "version": "3.9.12"
  }
 },
 "nbformat": 4,
 "nbformat_minor": 2
}
