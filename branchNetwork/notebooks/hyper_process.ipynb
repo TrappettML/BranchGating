{
 "cells": [
  {
   "cell_type": "code",
   "execution_count": 28,
   "metadata": {},
   "outputs": [],
   "source": [
    "import os\n",
    "import json\n",
    "import numpy as np\n",
    "import glob\n",
    "from collections import defaultdict\n",
    "\n",
    "import plotly.graph_objects as go\n",
    "import pandas as pd\n",
    "from plotly.subplots import make_subplots"
   ]
  },
  {
   "cell_type": "code",
   "execution_count": 18,
   "metadata": {},
   "outputs": [],
   "source": [
    "# Path to the directory containing all JSON files\n",
    "base_path = \"/home/users/MTrappett/mtrl/BranchGatingProject/branchNetwork/data/hyper_search/train_and_evaluate_model_2024-04-24_21-05-07\"\n",
    "\n",
    "# Dictionary to collect results by grouping key\n",
    "results_dict = defaultdict(list)\n",
    "\n",
    "# Walk through the directories and files\n",
    "for file_path in glob.glob(f\"{base_path}/train_and_evaluate_model_*/result.json\"):\n",
    "    # print(f\"Processing {file_path}\")\n",
    "    with open(file_path, 'r') as file:\n",
    "        # Read all lines in the file (each line is a JSON string)\n",
    "        data = [json.loads(line) for line in file.readlines()]\n",
    "        \n",
    "        # Extract mean accuracies\n",
    "        accuracies = [entry['mean_accuracy'] for entry in data]\n",
    "        \n",
    "        # Assuming the 'config' is the same in all entries, so we take the first one\n",
    "        config = data[0]['config']\n",
    "        \n",
    "        # Create a key to group by model_name, lr, and batch_size\n",
    "        grouping_key = (config['model_name'], config['lr'], config['batch_size'])\n",
    "        \n",
    "        # Append accuracies to the corresponding key\n",
    "        results_dict[grouping_key].extend(accuracies)\n"
   ]
  },
  {
   "cell_type": "code",
   "execution_count": 19,
   "metadata": {},
   "outputs": [],
   "source": [
    "# List to hold final results after grouping\n",
    "final_results = []\n",
    "\n",
    "# Process grouped results to calculate means and standard deviations\n",
    "for key, grouped_accuracies in results_dict.items():\n",
    "    average_acc = np.mean(grouped_accuracies)\n",
    "    std_acc = np.std(grouped_accuracies)\n",
    "    \n",
    "    result = {\n",
    "        'model_name': key[0],\n",
    "        'lr': key[1],\n",
    "        'batch_size': key[2],\n",
    "        'ave_mean_accuracy': average_acc,\n",
    "        'std_mean_accuracy': std_acc\n",
    "    }\n",
    "    \n",
    "    final_results.append(result)\n"
   ]
  },
  {
   "cell_type": "code",
   "execution_count": 20,
   "metadata": {},
   "outputs": [
    {
     "name": "stdout",
     "output_type": "stream",
     "text": [
      "{'model_name': 'SimpleModel', 'lr': 0.1, 'batch_size': 32, 'ave_mean_accuracy': 10.362, 'std_mean_accuracy': 0.6522519962918215}\n",
      "{'model_name': 'SimpleModel', 'lr': 0.001, 'batch_size': 64, 'ave_mean_accuracy': 96.56316666666666, 'std_mean_accuracy': 0.769957773012405}\n",
      "{'model_name': 'SimpleModel', 'lr': 0.1, 'batch_size': 256, 'ave_mean_accuracy': 10.713833333333332, 'std_mean_accuracy': 0.6345420702277264}\n",
      "{'model_name': 'SimpleModel', 'lr': 0.0001, 'batch_size': 128, 'ave_mean_accuracy': 97.32783333333333, 'std_mean_accuracy': 1.2673280181371964}\n",
      "{'model_name': 'ExpertModel', 'lr': 0.01, 'batch_size': 32, 'ave_mean_accuracy': 16.656166666666667, 'std_mean_accuracy': 4.179941822428739}\n",
      "{'model_name': 'ExpertModel', 'lr': 0.1, 'batch_size': 32, 'ave_mean_accuracy': 10.357500000000003, 'std_mean_accuracy': 0.655063928178006}\n",
      "{'model_name': 'ExpertModel', 'lr': 0.0001, 'batch_size': 32, 'ave_mean_accuracy': 97.60333333333332, 'std_mean_accuracy': 0.9263038858219744}\n",
      "{'model_name': 'BranchModel', 'lr': 0.1, 'batch_size': 128, 'ave_mean_accuracy': 10.639666666666669, 'std_mean_accuracy': 0.6697610685079334}\n",
      "{'model_name': 'BranchModel', 'lr': 0.01, 'batch_size': 128, 'ave_mean_accuracy': 89.49283333333332, 'std_mean_accuracy': 1.0246529358221201}\n",
      "{'model_name': 'SimpleModel', 'lr': 0.1, 'batch_size': 128, 'ave_mean_accuracy': 10.463166666666668, 'std_mean_accuracy': 0.6072794295508085}\n",
      "{'model_name': 'BranchModel', 'lr': 0.1, 'batch_size': 32, 'ave_mean_accuracy': 10.463000000000001, 'std_mean_accuracy': 0.6595233127039557}\n",
      "{'model_name': 'BranchModel', 'lr': 0.001, 'batch_size': 32, 'ave_mean_accuracy': 96.90633333333335, 'std_mean_accuracy': 0.7599779967575095}\n",
      "{'model_name': 'MasseModel', 'lr': 0.0001, 'batch_size': 128, 'ave_mean_accuracy': 96.45183333333333, 'std_mean_accuracy': 1.5430537813771172}\n",
      "{'model_name': 'ExpertModel', 'lr': 0.001, 'batch_size': 128, 'ave_mean_accuracy': 96.98183333333334, 'std_mean_accuracy': 0.8958096741061811}\n",
      "{'model_name': 'MasseModel', 'lr': 0.001, 'batch_size': 64, 'ave_mean_accuracy': 93.84316666666665, 'std_mean_accuracy': 0.9649982584900807}\n",
      "{'model_name': 'MasseModel', 'lr': 0.001, 'batch_size': 32, 'ave_mean_accuracy': 93.29499999999999, 'std_mean_accuracy': 1.0612217801509094}\n",
      "{'model_name': 'SimpleModel', 'lr': 0.0001, 'batch_size': 64, 'ave_mean_accuracy': 97.47799999999998, 'std_mean_accuracy': 1.1148629213196275}\n",
      "{'model_name': 'MasseModel', 'lr': 0.0001, 'batch_size': 64, 'ave_mean_accuracy': 96.70666666666665, 'std_mean_accuracy': 1.3495921194527218}\n",
      "{'model_name': 'ExpertModel', 'lr': 0.0001, 'batch_size': 64, 'ave_mean_accuracy': 97.43183333333334, 'std_mean_accuracy': 1.0607945004675607}\n",
      "{'model_name': 'SimpleModel', 'lr': 0.01, 'batch_size': 64, 'ave_mean_accuracy': 24.063499999999994, 'std_mean_accuracy': 9.601204407954938}\n",
      "{'model_name': 'SimpleModel', 'lr': 0.001, 'batch_size': 256, 'ave_mean_accuracy': 97.286, 'std_mean_accuracy': 0.8187005964738673}\n",
      "{'model_name': 'MasseModel', 'lr': 0.001, 'batch_size': 128, 'ave_mean_accuracy': 94.59233333333333, 'std_mean_accuracy': 1.127562809287753}\n",
      "{'model_name': 'ExpertModel', 'lr': 0.01, 'batch_size': 256, 'ave_mean_accuracy': 61.687333333333335, 'std_mean_accuracy': 7.013575613685853}\n",
      "{'model_name': 'MasseModel', 'lr': 0.1, 'batch_size': 64, 'ave_mean_accuracy': 9.799999999999995, 'std_mean_accuracy': 5.329070518200751e-15}\n",
      "{'model_name': 'MasseModel', 'lr': 0.1, 'batch_size': 256, 'ave_mean_accuracy': 9.799999999999995, 'std_mean_accuracy': 5.329070518200751e-15}\n",
      "{'model_name': 'MasseModel', 'lr': 0.01, 'batch_size': 256, 'ave_mean_accuracy': 35.08749999999999, 'std_mean_accuracy': 18.386667418268058}\n",
      "{'model_name': 'MasseModel', 'lr': 0.0001, 'batch_size': 256, 'ave_mean_accuracy': 96.10900000000001, 'std_mean_accuracy': 1.73920642823099}\n",
      "{'model_name': 'BranchModel', 'lr': 0.0001, 'batch_size': 256, 'ave_mean_accuracy': 95.29166666666667, 'std_mean_accuracy': 2.4014253869085525}\n",
      "{'model_name': 'SimpleModel', 'lr': 0.001, 'batch_size': 128, 'ave_mean_accuracy': 97.02449999999999, 'std_mean_accuracy': 0.7848639478703721}\n",
      "{'model_name': 'ExpertModel', 'lr': 0.0001, 'batch_size': 256, 'ave_mean_accuracy': 97.06416666666668, 'std_mean_accuracy': 1.547043730977104}\n",
      "{'model_name': 'SimpleModel', 'lr': 0.01, 'batch_size': 32, 'ave_mean_accuracy': 11.028333333333332, 'std_mean_accuracy': 0.5397689835064214}\n",
      "{'model_name': 'BranchModel', 'lr': 0.001, 'batch_size': 128, 'ave_mean_accuracy': 97.385, 'std_mean_accuracy': 0.8797016539713907}\n",
      "{'model_name': 'ExpertModel', 'lr': 0.0001, 'batch_size': 128, 'ave_mean_accuracy': 97.31883333333333, 'std_mean_accuracy': 1.2584475775953308}\n",
      "{'model_name': 'BranchModel', 'lr': 0.1, 'batch_size': 64, 'ave_mean_accuracy': 10.388333333333334, 'std_mean_accuracy': 0.6800616802091475}\n",
      "{'model_name': 'BranchModel', 'lr': 0.0001, 'batch_size': 32, 'ave_mean_accuracy': 97.03500000000001, 'std_mean_accuracy': 1.6768030096983166}\n",
      "{'model_name': 'SimpleModel', 'lr': 0.1, 'batch_size': 64, 'ave_mean_accuracy': 10.3565, 'std_mean_accuracy': 0.6807565032129084}\n",
      "{'model_name': 'ExpertModel', 'lr': 0.1, 'batch_size': 64, 'ave_mean_accuracy': 10.326333333333336, 'std_mean_accuracy': 0.6251505596432126}\n",
      "{'model_name': 'BranchModel', 'lr': 0.0001, 'batch_size': 64, 'ave_mean_accuracy': 96.66716666666667, 'std_mean_accuracy': 1.8733784914485974}\n",
      "{'model_name': 'MasseModel', 'lr': 0.01, 'batch_size': 64, 'ave_mean_accuracy': 24.941499999999998, 'std_mean_accuracy': 5.813803638754925}\n",
      "{'model_name': 'ExpertModel', 'lr': 0.001, 'batch_size': 256, 'ave_mean_accuracy': 97.30933333333333, 'std_mean_accuracy': 0.7651620017283199}\n",
      "{'model_name': 'ExpertModel', 'lr': 0.01, 'batch_size': 64, 'ave_mean_accuracy': 29.5045, 'std_mean_accuracy': 8.384180426056364}\n",
      "{'model_name': 'SimpleModel', 'lr': 0.0001, 'batch_size': 256, 'ave_mean_accuracy': 97.04566666666666, 'std_mean_accuracy': 1.491180032353198}\n",
      "{'model_name': 'BranchModel', 'lr': 0.01, 'batch_size': 32, 'ave_mean_accuracy': 76.23899999999999, 'std_mean_accuracy': 4.506888690290306}\n",
      "{'model_name': 'ExpertModel', 'lr': 0.1, 'batch_size': 256, 'ave_mean_accuracy': 10.554, 'std_mean_accuracy': 0.6525365890124475}\n",
      "{'model_name': 'MasseModel', 'lr': 0.0001, 'batch_size': 32, 'ave_mean_accuracy': 96.81866666666666, 'std_mean_accuracy': 1.1810722059025665}\n",
      "{'model_name': 'ExpertModel', 'lr': 0.001, 'batch_size': 32, 'ave_mean_accuracy': 95.75766666666667, 'std_mean_accuracy': 0.8303279807133771}\n",
      "{'model_name': 'ExpertModel', 'lr': 0.001, 'batch_size': 64, 'ave_mean_accuracy': 96.52966666666666, 'std_mean_accuracy': 0.9380120231401915}\n",
      "{'model_name': 'BranchModel', 'lr': 0.01, 'batch_size': 64, 'ave_mean_accuracy': 87.25433333333334, 'std_mean_accuracy': 1.0556583517197013}\n",
      "{'model_name': 'BranchModel', 'lr': 0.0001, 'batch_size': 128, 'ave_mean_accuracy': 96.08266666666667, 'std_mean_accuracy': 2.211023041238804}\n",
      "{'model_name': 'MasseModel', 'lr': 0.01, 'batch_size': 32, 'ave_mean_accuracy': 12.706166666666661, 'std_mean_accuracy': 4.114053593746953}\n",
      "{'model_name': 'SimpleModel', 'lr': 0.01, 'batch_size': 128, 'ave_mean_accuracy': 40.49366666666665, 'std_mean_accuracy': 8.914373219070923}\n",
      "{'model_name': 'MasseModel', 'lr': 0.1, 'batch_size': 128, 'ave_mean_accuracy': 9.80033333333333, 'std_mean_accuracy': 0.0017950549357114633}\n",
      "{'model_name': 'MasseModel', 'lr': 0.001, 'batch_size': 256, 'ave_mean_accuracy': 95.34216666666667, 'std_mean_accuracy': 1.1579494687689194}\n",
      "{'model_name': 'BranchModel', 'lr': 0.001, 'batch_size': 64, 'ave_mean_accuracy': 97.22816666666664, 'std_mean_accuracy': 0.8472632248730148}\n",
      "{'model_name': 'SimpleModel', 'lr': 0.001, 'batch_size': 32, 'ave_mean_accuracy': 95.67683333333335, 'std_mean_accuracy': 0.7630759937399562}\n",
      "{'model_name': 'MasseModel', 'lr': 0.1, 'batch_size': 32, 'ave_mean_accuracy': 9.799999999999995, 'std_mean_accuracy': 5.329070518200751e-15}\n",
      "{'model_name': 'BranchModel', 'lr': 0.01, 'batch_size': 256, 'ave_mean_accuracy': 90.37266666666666, 'std_mean_accuracy': 0.8041597409028189}\n",
      "{'model_name': 'BranchModel', 'lr': 0.1, 'batch_size': 256, 'ave_mean_accuracy': 10.618833333333335, 'std_mean_accuracy': 0.6420230828318314}\n",
      "{'model_name': 'SimpleModel', 'lr': 0.01, 'batch_size': 256, 'ave_mean_accuracy': 36.597666666666676, 'std_mean_accuracy': 13.144860005171433}\n",
      "{'model_name': 'ExpertModel', 'lr': 0.1, 'batch_size': 128, 'ave_mean_accuracy': 10.654, 'std_mean_accuracy': 0.686765850442007}\n",
      "{'model_name': 'SimpleModel', 'lr': 0.0001, 'batch_size': 32, 'ave_mean_accuracy': 97.58500000000002, 'std_mean_accuracy': 0.9091910323652194}\n",
      "{'model_name': 'MasseModel', 'lr': 0.01, 'batch_size': 128, 'ave_mean_accuracy': 34.99183333333333, 'std_mean_accuracy': 8.910281232311856}\n",
      "{'model_name': 'ExpertModel', 'lr': 0.01, 'batch_size': 128, 'ave_mean_accuracy': 42.539166666666674, 'std_mean_accuracy': 9.093617962004393}\n",
      "{'model_name': 'BranchModel', 'lr': 0.001, 'batch_size': 256, 'ave_mean_accuracy': 97.46183333333333, 'std_mean_accuracy': 1.0844084280790565}\n"
     ]
    }
   ],
   "source": [
    "\n",
    "# Optionally print results or handle them otherwise\n",
    "for res in final_results:\n",
    "    print(res)\n"
   ]
  },
  {
   "cell_type": "code",
   "execution_count": 34,
   "metadata": {},
   "outputs": [
    {
     "data": {
      "application/vnd.plotly.v1+json": {
       "config": {
        "plotlyServerURL": "https://plot.ly"
       },
       "data": [
        {
         "colorbar": {
          "title": {
           "text": "Mean Accuracy"
          }
         },
         "showscale": false,
         "type": "heatmap",
         "x": [
          "32",
          "64",
          "128",
          "256"
         ],
         "xaxis": "x",
         "y": [
          "0.1",
          "0.01",
          "0.001",
          "0.0001"
         ],
         "yaxis": "y",
         "z": [
          [
           10.362,
           10.3565,
           10.463166666666668,
           10.713833333333332
          ],
          [
           11.028333333333332,
           24.063499999999994,
           40.49366666666665,
           36.597666666666676
          ],
          [
           95.67683333333335,
           96.56316666666666,
           97.02449999999999,
           97.286
          ],
          [
           97.58500000000002,
           97.47799999999998,
           97.32783333333333,
           97.04566666666666
          ]
         ]
        },
        {
         "colorbar": {
          "title": {
           "text": "Mean Accuracy"
          }
         },
         "showscale": false,
         "type": "heatmap",
         "x": [
          "32",
          "64",
          "128",
          "256"
         ],
         "xaxis": "x2",
         "y": [
          "0.1",
          "0.01",
          "0.001",
          "0.0001"
         ],
         "yaxis": "y2",
         "z": [
          [
           10.357500000000003,
           10.326333333333336,
           10.654,
           10.554
          ],
          [
           16.656166666666667,
           29.5045,
           42.539166666666674,
           61.687333333333335
          ],
          [
           95.75766666666667,
           96.52966666666666,
           96.98183333333334,
           97.30933333333333
          ],
          [
           97.60333333333332,
           97.43183333333334,
           97.31883333333333,
           97.06416666666668
          ]
         ]
        },
        {
         "colorbar": {
          "title": {
           "text": "Mean Accuracy"
          }
         },
         "showscale": false,
         "type": "heatmap",
         "x": [
          "32",
          "64",
          "128",
          "256"
         ],
         "xaxis": "x3",
         "y": [
          "0.1",
          "0.01",
          "0.001",
          "0.0001"
         ],
         "yaxis": "y3",
         "z": [
          [
           10.463000000000001,
           10.388333333333334,
           10.639666666666669,
           10.618833333333335
          ],
          [
           76.23899999999999,
           87.25433333333334,
           89.49283333333332,
           90.37266666666666
          ],
          [
           96.90633333333335,
           97.22816666666664,
           97.385,
           97.46183333333333
          ],
          [
           97.03500000000001,
           96.66716666666667,
           96.08266666666667,
           95.29166666666667
          ]
         ]
        },
        {
         "colorbar": {
          "title": {
           "text": "Mean Accuracy"
          }
         },
         "showscale": true,
         "type": "heatmap",
         "x": [
          "32",
          "64",
          "128",
          "256"
         ],
         "xaxis": "x4",
         "y": [
          "0.1",
          "0.01",
          "0.001",
          "0.0001"
         ],
         "yaxis": "y4",
         "z": [
          [
           9.799999999999995,
           9.799999999999995,
           9.80033333333333,
           9.799999999999995
          ],
          [
           12.706166666666661,
           24.941499999999998,
           34.99183333333333,
           35.08749999999999
          ],
          [
           93.29499999999999,
           93.84316666666665,
           94.59233333333333,
           95.34216666666667
          ],
          [
           96.81866666666666,
           96.70666666666665,
           96.45183333333333,
           96.10900000000001
          ]
         ]
        }
       ],
       "layout": {
        "annotations": [
         {
          "font": {
           "size": 16
          },
          "showarrow": false,
          "text": "SimpleModel",
          "x": 0.225,
          "xanchor": "center",
          "xref": "paper",
          "y": 1,
          "yanchor": "bottom",
          "yref": "paper"
         },
         {
          "font": {
           "size": 16
          },
          "showarrow": false,
          "text": "ExpertModel",
          "x": 0.775,
          "xanchor": "center",
          "xref": "paper",
          "y": 1,
          "yanchor": "bottom",
          "yref": "paper"
         },
         {
          "font": {
           "size": 16
          },
          "showarrow": false,
          "text": "BranchModel",
          "x": 0.225,
          "xanchor": "center",
          "xref": "paper",
          "y": 0.375,
          "yanchor": "bottom",
          "yref": "paper"
         },
         {
          "font": {
           "size": 16
          },
          "showarrow": false,
          "text": "MasseModel",
          "x": 0.775,
          "xanchor": "center",
          "xref": "paper",
          "y": 0.375,
          "yanchor": "bottom",
          "yref": "paper"
         }
        ],
        "height": 600,
        "template": {
         "data": {
          "bar": [
           {
            "error_x": {
             "color": "#2a3f5f"
            },
            "error_y": {
             "color": "#2a3f5f"
            },
            "marker": {
             "line": {
              "color": "#E5ECF6",
              "width": 0.5
             },
             "pattern": {
              "fillmode": "overlay",
              "size": 10,
              "solidity": 0.2
             }
            },
            "type": "bar"
           }
          ],
          "barpolar": [
           {
            "marker": {
             "line": {
              "color": "#E5ECF6",
              "width": 0.5
             },
             "pattern": {
              "fillmode": "overlay",
              "size": 10,
              "solidity": 0.2
             }
            },
            "type": "barpolar"
           }
          ],
          "carpet": [
           {
            "aaxis": {
             "endlinecolor": "#2a3f5f",
             "gridcolor": "white",
             "linecolor": "white",
             "minorgridcolor": "white",
             "startlinecolor": "#2a3f5f"
            },
            "baxis": {
             "endlinecolor": "#2a3f5f",
             "gridcolor": "white",
             "linecolor": "white",
             "minorgridcolor": "white",
             "startlinecolor": "#2a3f5f"
            },
            "type": "carpet"
           }
          ],
          "choropleth": [
           {
            "colorbar": {
             "outlinewidth": 0,
             "ticks": ""
            },
            "type": "choropleth"
           }
          ],
          "contour": [
           {
            "colorbar": {
             "outlinewidth": 0,
             "ticks": ""
            },
            "colorscale": [
             [
              0,
              "#0d0887"
             ],
             [
              0.1111111111111111,
              "#46039f"
             ],
             [
              0.2222222222222222,
              "#7201a8"
             ],
             [
              0.3333333333333333,
              "#9c179e"
             ],
             [
              0.4444444444444444,
              "#bd3786"
             ],
             [
              0.5555555555555556,
              "#d8576b"
             ],
             [
              0.6666666666666666,
              "#ed7953"
             ],
             [
              0.7777777777777778,
              "#fb9f3a"
             ],
             [
              0.8888888888888888,
              "#fdca26"
             ],
             [
              1,
              "#f0f921"
             ]
            ],
            "type": "contour"
           }
          ],
          "contourcarpet": [
           {
            "colorbar": {
             "outlinewidth": 0,
             "ticks": ""
            },
            "type": "contourcarpet"
           }
          ],
          "heatmap": [
           {
            "colorbar": {
             "outlinewidth": 0,
             "ticks": ""
            },
            "colorscale": [
             [
              0,
              "#0d0887"
             ],
             [
              0.1111111111111111,
              "#46039f"
             ],
             [
              0.2222222222222222,
              "#7201a8"
             ],
             [
              0.3333333333333333,
              "#9c179e"
             ],
             [
              0.4444444444444444,
              "#bd3786"
             ],
             [
              0.5555555555555556,
              "#d8576b"
             ],
             [
              0.6666666666666666,
              "#ed7953"
             ],
             [
              0.7777777777777778,
              "#fb9f3a"
             ],
             [
              0.8888888888888888,
              "#fdca26"
             ],
             [
              1,
              "#f0f921"
             ]
            ],
            "type": "heatmap"
           }
          ],
          "heatmapgl": [
           {
            "colorbar": {
             "outlinewidth": 0,
             "ticks": ""
            },
            "colorscale": [
             [
              0,
              "#0d0887"
             ],
             [
              0.1111111111111111,
              "#46039f"
             ],
             [
              0.2222222222222222,
              "#7201a8"
             ],
             [
              0.3333333333333333,
              "#9c179e"
             ],
             [
              0.4444444444444444,
              "#bd3786"
             ],
             [
              0.5555555555555556,
              "#d8576b"
             ],
             [
              0.6666666666666666,
              "#ed7953"
             ],
             [
              0.7777777777777778,
              "#fb9f3a"
             ],
             [
              0.8888888888888888,
              "#fdca26"
             ],
             [
              1,
              "#f0f921"
             ]
            ],
            "type": "heatmapgl"
           }
          ],
          "histogram": [
           {
            "marker": {
             "pattern": {
              "fillmode": "overlay",
              "size": 10,
              "solidity": 0.2
             }
            },
            "type": "histogram"
           }
          ],
          "histogram2d": [
           {
            "colorbar": {
             "outlinewidth": 0,
             "ticks": ""
            },
            "colorscale": [
             [
              0,
              "#0d0887"
             ],
             [
              0.1111111111111111,
              "#46039f"
             ],
             [
              0.2222222222222222,
              "#7201a8"
             ],
             [
              0.3333333333333333,
              "#9c179e"
             ],
             [
              0.4444444444444444,
              "#bd3786"
             ],
             [
              0.5555555555555556,
              "#d8576b"
             ],
             [
              0.6666666666666666,
              "#ed7953"
             ],
             [
              0.7777777777777778,
              "#fb9f3a"
             ],
             [
              0.8888888888888888,
              "#fdca26"
             ],
             [
              1,
              "#f0f921"
             ]
            ],
            "type": "histogram2d"
           }
          ],
          "histogram2dcontour": [
           {
            "colorbar": {
             "outlinewidth": 0,
             "ticks": ""
            },
            "colorscale": [
             [
              0,
              "#0d0887"
             ],
             [
              0.1111111111111111,
              "#46039f"
             ],
             [
              0.2222222222222222,
              "#7201a8"
             ],
             [
              0.3333333333333333,
              "#9c179e"
             ],
             [
              0.4444444444444444,
              "#bd3786"
             ],
             [
              0.5555555555555556,
              "#d8576b"
             ],
             [
              0.6666666666666666,
              "#ed7953"
             ],
             [
              0.7777777777777778,
              "#fb9f3a"
             ],
             [
              0.8888888888888888,
              "#fdca26"
             ],
             [
              1,
              "#f0f921"
             ]
            ],
            "type": "histogram2dcontour"
           }
          ],
          "mesh3d": [
           {
            "colorbar": {
             "outlinewidth": 0,
             "ticks": ""
            },
            "type": "mesh3d"
           }
          ],
          "parcoords": [
           {
            "line": {
             "colorbar": {
              "outlinewidth": 0,
              "ticks": ""
             }
            },
            "type": "parcoords"
           }
          ],
          "pie": [
           {
            "automargin": true,
            "type": "pie"
           }
          ],
          "scatter": [
           {
            "fillpattern": {
             "fillmode": "overlay",
             "size": 10,
             "solidity": 0.2
            },
            "type": "scatter"
           }
          ],
          "scatter3d": [
           {
            "line": {
             "colorbar": {
              "outlinewidth": 0,
              "ticks": ""
             }
            },
            "marker": {
             "colorbar": {
              "outlinewidth": 0,
              "ticks": ""
             }
            },
            "type": "scatter3d"
           }
          ],
          "scattercarpet": [
           {
            "marker": {
             "colorbar": {
              "outlinewidth": 0,
              "ticks": ""
             }
            },
            "type": "scattercarpet"
           }
          ],
          "scattergeo": [
           {
            "marker": {
             "colorbar": {
              "outlinewidth": 0,
              "ticks": ""
             }
            },
            "type": "scattergeo"
           }
          ],
          "scattergl": [
           {
            "marker": {
             "colorbar": {
              "outlinewidth": 0,
              "ticks": ""
             }
            },
            "type": "scattergl"
           }
          ],
          "scattermapbox": [
           {
            "marker": {
             "colorbar": {
              "outlinewidth": 0,
              "ticks": ""
             }
            },
            "type": "scattermapbox"
           }
          ],
          "scatterpolar": [
           {
            "marker": {
             "colorbar": {
              "outlinewidth": 0,
              "ticks": ""
             }
            },
            "type": "scatterpolar"
           }
          ],
          "scatterpolargl": [
           {
            "marker": {
             "colorbar": {
              "outlinewidth": 0,
              "ticks": ""
             }
            },
            "type": "scatterpolargl"
           }
          ],
          "scatterternary": [
           {
            "marker": {
             "colorbar": {
              "outlinewidth": 0,
              "ticks": ""
             }
            },
            "type": "scatterternary"
           }
          ],
          "surface": [
           {
            "colorbar": {
             "outlinewidth": 0,
             "ticks": ""
            },
            "colorscale": [
             [
              0,
              "#0d0887"
             ],
             [
              0.1111111111111111,
              "#46039f"
             ],
             [
              0.2222222222222222,
              "#7201a8"
             ],
             [
              0.3333333333333333,
              "#9c179e"
             ],
             [
              0.4444444444444444,
              "#bd3786"
             ],
             [
              0.5555555555555556,
              "#d8576b"
             ],
             [
              0.6666666666666666,
              "#ed7953"
             ],
             [
              0.7777777777777778,
              "#fb9f3a"
             ],
             [
              0.8888888888888888,
              "#fdca26"
             ],
             [
              1,
              "#f0f921"
             ]
            ],
            "type": "surface"
           }
          ],
          "table": [
           {
            "cells": {
             "fill": {
              "color": "#EBF0F8"
             },
             "line": {
              "color": "white"
             }
            },
            "header": {
             "fill": {
              "color": "#C8D4E3"
             },
             "line": {
              "color": "white"
             }
            },
            "type": "table"
           }
          ]
         },
         "layout": {
          "annotationdefaults": {
           "arrowcolor": "#2a3f5f",
           "arrowhead": 0,
           "arrowwidth": 1
          },
          "autotypenumbers": "strict",
          "coloraxis": {
           "colorbar": {
            "outlinewidth": 0,
            "ticks": ""
           }
          },
          "colorscale": {
           "diverging": [
            [
             0,
             "#8e0152"
            ],
            [
             0.1,
             "#c51b7d"
            ],
            [
             0.2,
             "#de77ae"
            ],
            [
             0.3,
             "#f1b6da"
            ],
            [
             0.4,
             "#fde0ef"
            ],
            [
             0.5,
             "#f7f7f7"
            ],
            [
             0.6,
             "#e6f5d0"
            ],
            [
             0.7,
             "#b8e186"
            ],
            [
             0.8,
             "#7fbc41"
            ],
            [
             0.9,
             "#4d9221"
            ],
            [
             1,
             "#276419"
            ]
           ],
           "sequential": [
            [
             0,
             "#0d0887"
            ],
            [
             0.1111111111111111,
             "#46039f"
            ],
            [
             0.2222222222222222,
             "#7201a8"
            ],
            [
             0.3333333333333333,
             "#9c179e"
            ],
            [
             0.4444444444444444,
             "#bd3786"
            ],
            [
             0.5555555555555556,
             "#d8576b"
            ],
            [
             0.6666666666666666,
             "#ed7953"
            ],
            [
             0.7777777777777778,
             "#fb9f3a"
            ],
            [
             0.8888888888888888,
             "#fdca26"
            ],
            [
             1,
             "#f0f921"
            ]
           ],
           "sequentialminus": [
            [
             0,
             "#0d0887"
            ],
            [
             0.1111111111111111,
             "#46039f"
            ],
            [
             0.2222222222222222,
             "#7201a8"
            ],
            [
             0.3333333333333333,
             "#9c179e"
            ],
            [
             0.4444444444444444,
             "#bd3786"
            ],
            [
             0.5555555555555556,
             "#d8576b"
            ],
            [
             0.6666666666666666,
             "#ed7953"
            ],
            [
             0.7777777777777778,
             "#fb9f3a"
            ],
            [
             0.8888888888888888,
             "#fdca26"
            ],
            [
             1,
             "#f0f921"
            ]
           ]
          },
          "colorway": [
           "#636efa",
           "#EF553B",
           "#00cc96",
           "#ab63fa",
           "#FFA15A",
           "#19d3f3",
           "#FF6692",
           "#B6E880",
           "#FF97FF",
           "#FECB52"
          ],
          "font": {
           "color": "#2a3f5f"
          },
          "geo": {
           "bgcolor": "white",
           "lakecolor": "white",
           "landcolor": "#E5ECF6",
           "showlakes": true,
           "showland": true,
           "subunitcolor": "white"
          },
          "hoverlabel": {
           "align": "left"
          },
          "hovermode": "closest",
          "mapbox": {
           "style": "light"
          },
          "paper_bgcolor": "white",
          "plot_bgcolor": "#E5ECF6",
          "polar": {
           "angularaxis": {
            "gridcolor": "white",
            "linecolor": "white",
            "ticks": ""
           },
           "bgcolor": "#E5ECF6",
           "radialaxis": {
            "gridcolor": "white",
            "linecolor": "white",
            "ticks": ""
           }
          },
          "scene": {
           "xaxis": {
            "backgroundcolor": "#E5ECF6",
            "gridcolor": "white",
            "gridwidth": 2,
            "linecolor": "white",
            "showbackground": true,
            "ticks": "",
            "zerolinecolor": "white"
           },
           "yaxis": {
            "backgroundcolor": "#E5ECF6",
            "gridcolor": "white",
            "gridwidth": 2,
            "linecolor": "white",
            "showbackground": true,
            "ticks": "",
            "zerolinecolor": "white"
           },
           "zaxis": {
            "backgroundcolor": "#E5ECF6",
            "gridcolor": "white",
            "gridwidth": 2,
            "linecolor": "white",
            "showbackground": true,
            "ticks": "",
            "zerolinecolor": "white"
           }
          },
          "shapedefaults": {
           "line": {
            "color": "#2a3f5f"
           }
          },
          "ternary": {
           "aaxis": {
            "gridcolor": "white",
            "linecolor": "white",
            "ticks": ""
           },
           "baxis": {
            "gridcolor": "white",
            "linecolor": "white",
            "ticks": ""
           },
           "bgcolor": "#E5ECF6",
           "caxis": {
            "gridcolor": "white",
            "linecolor": "white",
            "ticks": ""
           }
          },
          "title": {
           "x": 0.05
          },
          "xaxis": {
           "automargin": true,
           "gridcolor": "white",
           "linecolor": "white",
           "ticks": "",
           "title": {
            "standoff": 15
           },
           "zerolinecolor": "white",
           "zerolinewidth": 2
          },
          "yaxis": {
           "automargin": true,
           "gridcolor": "white",
           "linecolor": "white",
           "ticks": "",
           "title": {
            "standoff": 15
           },
           "zerolinecolor": "white",
           "zerolinewidth": 2
          }
         }
        },
        "title": {
         "text": "Model Performance Comparison across Different Hyperparameters"
        },
        "width": 700,
        "xaxis": {
         "anchor": "y",
         "domain": [
          0,
          0.45
         ]
        },
        "xaxis2": {
         "anchor": "y2",
         "domain": [
          0.55,
          1
         ]
        },
        "xaxis3": {
         "anchor": "y3",
         "domain": [
          0,
          0.45
         ]
        },
        "xaxis4": {
         "anchor": "y4",
         "domain": [
          0.55,
          1
         ]
        },
        "yaxis": {
         "anchor": "x",
         "domain": [
          0.625,
          1
         ]
        },
        "yaxis2": {
         "anchor": "x2",
         "domain": [
          0.625,
          1
         ]
        },
        "yaxis3": {
         "anchor": "x3",
         "domain": [
          0,
          0.375
         ]
        },
        "yaxis4": {
         "anchor": "x4",
         "domain": [
          0,
          0.375
         ]
        }
       }
      },
      "text/html": [
       "<div>                            <div id=\"f8f99e70-069e-42e4-ad2c-a2604a120c77\" class=\"plotly-graph-div\" style=\"height:600px; width:700px;\"></div>            <script type=\"text/javascript\">                require([\"plotly\"], function(Plotly) {                    window.PLOTLYENV=window.PLOTLYENV || {};                                    if (document.getElementById(\"f8f99e70-069e-42e4-ad2c-a2604a120c77\")) {                    Plotly.newPlot(                        \"f8f99e70-069e-42e4-ad2c-a2604a120c77\",                        [{\"colorbar\":{\"title\":{\"text\":\"Mean Accuracy\"}},\"showscale\":false,\"x\":[\"32\",\"64\",\"128\",\"256\"],\"y\":[\"0.1\",\"0.01\",\"0.001\",\"0.0001\"],\"z\":[[10.362,10.3565,10.463166666666668,10.713833333333332],[11.028333333333332,24.063499999999994,40.49366666666665,36.597666666666676],[95.67683333333335,96.56316666666666,97.02449999999999,97.286],[97.58500000000002,97.47799999999998,97.32783333333333,97.04566666666666]],\"type\":\"heatmap\",\"xaxis\":\"x\",\"yaxis\":\"y\"},{\"colorbar\":{\"title\":{\"text\":\"Mean Accuracy\"}},\"showscale\":false,\"x\":[\"32\",\"64\",\"128\",\"256\"],\"y\":[\"0.1\",\"0.01\",\"0.001\",\"0.0001\"],\"z\":[[10.357500000000003,10.326333333333336,10.654,10.554],[16.656166666666667,29.5045,42.539166666666674,61.687333333333335],[95.75766666666667,96.52966666666666,96.98183333333334,97.30933333333333],[97.60333333333332,97.43183333333334,97.31883333333333,97.06416666666668]],\"type\":\"heatmap\",\"xaxis\":\"x2\",\"yaxis\":\"y2\"},{\"colorbar\":{\"title\":{\"text\":\"Mean Accuracy\"}},\"showscale\":false,\"x\":[\"32\",\"64\",\"128\",\"256\"],\"y\":[\"0.1\",\"0.01\",\"0.001\",\"0.0001\"],\"z\":[[10.463000000000001,10.388333333333334,10.639666666666669,10.618833333333335],[76.23899999999999,87.25433333333334,89.49283333333332,90.37266666666666],[96.90633333333335,97.22816666666664,97.385,97.46183333333333],[97.03500000000001,96.66716666666667,96.08266666666667,95.29166666666667]],\"type\":\"heatmap\",\"xaxis\":\"x3\",\"yaxis\":\"y3\"},{\"colorbar\":{\"title\":{\"text\":\"Mean Accuracy\"}},\"showscale\":true,\"x\":[\"32\",\"64\",\"128\",\"256\"],\"y\":[\"0.1\",\"0.01\",\"0.001\",\"0.0001\"],\"z\":[[9.799999999999995,9.799999999999995,9.80033333333333,9.799999999999995],[12.706166666666661,24.941499999999998,34.99183333333333,35.08749999999999],[93.29499999999999,93.84316666666665,94.59233333333333,95.34216666666667],[96.81866666666666,96.70666666666665,96.45183333333333,96.10900000000001]],\"type\":\"heatmap\",\"xaxis\":\"x4\",\"yaxis\":\"y4\"}],                        {\"template\":{\"data\":{\"histogram2dcontour\":[{\"type\":\"histogram2dcontour\",\"colorbar\":{\"outlinewidth\":0,\"ticks\":\"\"},\"colorscale\":[[0.0,\"#0d0887\"],[0.1111111111111111,\"#46039f\"],[0.2222222222222222,\"#7201a8\"],[0.3333333333333333,\"#9c179e\"],[0.4444444444444444,\"#bd3786\"],[0.5555555555555556,\"#d8576b\"],[0.6666666666666666,\"#ed7953\"],[0.7777777777777778,\"#fb9f3a\"],[0.8888888888888888,\"#fdca26\"],[1.0,\"#f0f921\"]]}],\"choropleth\":[{\"type\":\"choropleth\",\"colorbar\":{\"outlinewidth\":0,\"ticks\":\"\"}}],\"histogram2d\":[{\"type\":\"histogram2d\",\"colorbar\":{\"outlinewidth\":0,\"ticks\":\"\"},\"colorscale\":[[0.0,\"#0d0887\"],[0.1111111111111111,\"#46039f\"],[0.2222222222222222,\"#7201a8\"],[0.3333333333333333,\"#9c179e\"],[0.4444444444444444,\"#bd3786\"],[0.5555555555555556,\"#d8576b\"],[0.6666666666666666,\"#ed7953\"],[0.7777777777777778,\"#fb9f3a\"],[0.8888888888888888,\"#fdca26\"],[1.0,\"#f0f921\"]]}],\"heatmap\":[{\"type\":\"heatmap\",\"colorbar\":{\"outlinewidth\":0,\"ticks\":\"\"},\"colorscale\":[[0.0,\"#0d0887\"],[0.1111111111111111,\"#46039f\"],[0.2222222222222222,\"#7201a8\"],[0.3333333333333333,\"#9c179e\"],[0.4444444444444444,\"#bd3786\"],[0.5555555555555556,\"#d8576b\"],[0.6666666666666666,\"#ed7953\"],[0.7777777777777778,\"#fb9f3a\"],[0.8888888888888888,\"#fdca26\"],[1.0,\"#f0f921\"]]}],\"heatmapgl\":[{\"type\":\"heatmapgl\",\"colorbar\":{\"outlinewidth\":0,\"ticks\":\"\"},\"colorscale\":[[0.0,\"#0d0887\"],[0.1111111111111111,\"#46039f\"],[0.2222222222222222,\"#7201a8\"],[0.3333333333333333,\"#9c179e\"],[0.4444444444444444,\"#bd3786\"],[0.5555555555555556,\"#d8576b\"],[0.6666666666666666,\"#ed7953\"],[0.7777777777777778,\"#fb9f3a\"],[0.8888888888888888,\"#fdca26\"],[1.0,\"#f0f921\"]]}],\"contourcarpet\":[{\"type\":\"contourcarpet\",\"colorbar\":{\"outlinewidth\":0,\"ticks\":\"\"}}],\"contour\":[{\"type\":\"contour\",\"colorbar\":{\"outlinewidth\":0,\"ticks\":\"\"},\"colorscale\":[[0.0,\"#0d0887\"],[0.1111111111111111,\"#46039f\"],[0.2222222222222222,\"#7201a8\"],[0.3333333333333333,\"#9c179e\"],[0.4444444444444444,\"#bd3786\"],[0.5555555555555556,\"#d8576b\"],[0.6666666666666666,\"#ed7953\"],[0.7777777777777778,\"#fb9f3a\"],[0.8888888888888888,\"#fdca26\"],[1.0,\"#f0f921\"]]}],\"surface\":[{\"type\":\"surface\",\"colorbar\":{\"outlinewidth\":0,\"ticks\":\"\"},\"colorscale\":[[0.0,\"#0d0887\"],[0.1111111111111111,\"#46039f\"],[0.2222222222222222,\"#7201a8\"],[0.3333333333333333,\"#9c179e\"],[0.4444444444444444,\"#bd3786\"],[0.5555555555555556,\"#d8576b\"],[0.6666666666666666,\"#ed7953\"],[0.7777777777777778,\"#fb9f3a\"],[0.8888888888888888,\"#fdca26\"],[1.0,\"#f0f921\"]]}],\"mesh3d\":[{\"type\":\"mesh3d\",\"colorbar\":{\"outlinewidth\":0,\"ticks\":\"\"}}],\"scatter\":[{\"fillpattern\":{\"fillmode\":\"overlay\",\"size\":10,\"solidity\":0.2},\"type\":\"scatter\"}],\"parcoords\":[{\"type\":\"parcoords\",\"line\":{\"colorbar\":{\"outlinewidth\":0,\"ticks\":\"\"}}}],\"scatterpolargl\":[{\"type\":\"scatterpolargl\",\"marker\":{\"colorbar\":{\"outlinewidth\":0,\"ticks\":\"\"}}}],\"bar\":[{\"error_x\":{\"color\":\"#2a3f5f\"},\"error_y\":{\"color\":\"#2a3f5f\"},\"marker\":{\"line\":{\"color\":\"#E5ECF6\",\"width\":0.5},\"pattern\":{\"fillmode\":\"overlay\",\"size\":10,\"solidity\":0.2}},\"type\":\"bar\"}],\"scattergeo\":[{\"type\":\"scattergeo\",\"marker\":{\"colorbar\":{\"outlinewidth\":0,\"ticks\":\"\"}}}],\"scatterpolar\":[{\"type\":\"scatterpolar\",\"marker\":{\"colorbar\":{\"outlinewidth\":0,\"ticks\":\"\"}}}],\"histogram\":[{\"marker\":{\"pattern\":{\"fillmode\":\"overlay\",\"size\":10,\"solidity\":0.2}},\"type\":\"histogram\"}],\"scattergl\":[{\"type\":\"scattergl\",\"marker\":{\"colorbar\":{\"outlinewidth\":0,\"ticks\":\"\"}}}],\"scatter3d\":[{\"type\":\"scatter3d\",\"line\":{\"colorbar\":{\"outlinewidth\":0,\"ticks\":\"\"}},\"marker\":{\"colorbar\":{\"outlinewidth\":0,\"ticks\":\"\"}}}],\"scattermapbox\":[{\"type\":\"scattermapbox\",\"marker\":{\"colorbar\":{\"outlinewidth\":0,\"ticks\":\"\"}}}],\"scatterternary\":[{\"type\":\"scatterternary\",\"marker\":{\"colorbar\":{\"outlinewidth\":0,\"ticks\":\"\"}}}],\"scattercarpet\":[{\"type\":\"scattercarpet\",\"marker\":{\"colorbar\":{\"outlinewidth\":0,\"ticks\":\"\"}}}],\"carpet\":[{\"aaxis\":{\"endlinecolor\":\"#2a3f5f\",\"gridcolor\":\"white\",\"linecolor\":\"white\",\"minorgridcolor\":\"white\",\"startlinecolor\":\"#2a3f5f\"},\"baxis\":{\"endlinecolor\":\"#2a3f5f\",\"gridcolor\":\"white\",\"linecolor\":\"white\",\"minorgridcolor\":\"white\",\"startlinecolor\":\"#2a3f5f\"},\"type\":\"carpet\"}],\"table\":[{\"cells\":{\"fill\":{\"color\":\"#EBF0F8\"},\"line\":{\"color\":\"white\"}},\"header\":{\"fill\":{\"color\":\"#C8D4E3\"},\"line\":{\"color\":\"white\"}},\"type\":\"table\"}],\"barpolar\":[{\"marker\":{\"line\":{\"color\":\"#E5ECF6\",\"width\":0.5},\"pattern\":{\"fillmode\":\"overlay\",\"size\":10,\"solidity\":0.2}},\"type\":\"barpolar\"}],\"pie\":[{\"automargin\":true,\"type\":\"pie\"}]},\"layout\":{\"autotypenumbers\":\"strict\",\"colorway\":[\"#636efa\",\"#EF553B\",\"#00cc96\",\"#ab63fa\",\"#FFA15A\",\"#19d3f3\",\"#FF6692\",\"#B6E880\",\"#FF97FF\",\"#FECB52\"],\"font\":{\"color\":\"#2a3f5f\"},\"hovermode\":\"closest\",\"hoverlabel\":{\"align\":\"left\"},\"paper_bgcolor\":\"white\",\"plot_bgcolor\":\"#E5ECF6\",\"polar\":{\"bgcolor\":\"#E5ECF6\",\"angularaxis\":{\"gridcolor\":\"white\",\"linecolor\":\"white\",\"ticks\":\"\"},\"radialaxis\":{\"gridcolor\":\"white\",\"linecolor\":\"white\",\"ticks\":\"\"}},\"ternary\":{\"bgcolor\":\"#E5ECF6\",\"aaxis\":{\"gridcolor\":\"white\",\"linecolor\":\"white\",\"ticks\":\"\"},\"baxis\":{\"gridcolor\":\"white\",\"linecolor\":\"white\",\"ticks\":\"\"},\"caxis\":{\"gridcolor\":\"white\",\"linecolor\":\"white\",\"ticks\":\"\"}},\"coloraxis\":{\"colorbar\":{\"outlinewidth\":0,\"ticks\":\"\"}},\"colorscale\":{\"sequential\":[[0.0,\"#0d0887\"],[0.1111111111111111,\"#46039f\"],[0.2222222222222222,\"#7201a8\"],[0.3333333333333333,\"#9c179e\"],[0.4444444444444444,\"#bd3786\"],[0.5555555555555556,\"#d8576b\"],[0.6666666666666666,\"#ed7953\"],[0.7777777777777778,\"#fb9f3a\"],[0.8888888888888888,\"#fdca26\"],[1.0,\"#f0f921\"]],\"sequentialminus\":[[0.0,\"#0d0887\"],[0.1111111111111111,\"#46039f\"],[0.2222222222222222,\"#7201a8\"],[0.3333333333333333,\"#9c179e\"],[0.4444444444444444,\"#bd3786\"],[0.5555555555555556,\"#d8576b\"],[0.6666666666666666,\"#ed7953\"],[0.7777777777777778,\"#fb9f3a\"],[0.8888888888888888,\"#fdca26\"],[1.0,\"#f0f921\"]],\"diverging\":[[0,\"#8e0152\"],[0.1,\"#c51b7d\"],[0.2,\"#de77ae\"],[0.3,\"#f1b6da\"],[0.4,\"#fde0ef\"],[0.5,\"#f7f7f7\"],[0.6,\"#e6f5d0\"],[0.7,\"#b8e186\"],[0.8,\"#7fbc41\"],[0.9,\"#4d9221\"],[1,\"#276419\"]]},\"xaxis\":{\"gridcolor\":\"white\",\"linecolor\":\"white\",\"ticks\":\"\",\"title\":{\"standoff\":15},\"zerolinecolor\":\"white\",\"automargin\":true,\"zerolinewidth\":2},\"yaxis\":{\"gridcolor\":\"white\",\"linecolor\":\"white\",\"ticks\":\"\",\"title\":{\"standoff\":15},\"zerolinecolor\":\"white\",\"automargin\":true,\"zerolinewidth\":2},\"scene\":{\"xaxis\":{\"backgroundcolor\":\"#E5ECF6\",\"gridcolor\":\"white\",\"linecolor\":\"white\",\"showbackground\":true,\"ticks\":\"\",\"zerolinecolor\":\"white\",\"gridwidth\":2},\"yaxis\":{\"backgroundcolor\":\"#E5ECF6\",\"gridcolor\":\"white\",\"linecolor\":\"white\",\"showbackground\":true,\"ticks\":\"\",\"zerolinecolor\":\"white\",\"gridwidth\":2},\"zaxis\":{\"backgroundcolor\":\"#E5ECF6\",\"gridcolor\":\"white\",\"linecolor\":\"white\",\"showbackground\":true,\"ticks\":\"\",\"zerolinecolor\":\"white\",\"gridwidth\":2}},\"shapedefaults\":{\"line\":{\"color\":\"#2a3f5f\"}},\"annotationdefaults\":{\"arrowcolor\":\"#2a3f5f\",\"arrowhead\":0,\"arrowwidth\":1},\"geo\":{\"bgcolor\":\"white\",\"landcolor\":\"#E5ECF6\",\"subunitcolor\":\"white\",\"showland\":true,\"showlakes\":true,\"lakecolor\":\"white\"},\"title\":{\"x\":0.05},\"mapbox\":{\"style\":\"light\"}}},\"xaxis\":{\"anchor\":\"y\",\"domain\":[0.0,0.45]},\"yaxis\":{\"anchor\":\"x\",\"domain\":[0.625,1.0]},\"xaxis2\":{\"anchor\":\"y2\",\"domain\":[0.55,1.0]},\"yaxis2\":{\"anchor\":\"x2\",\"domain\":[0.625,1.0]},\"xaxis3\":{\"anchor\":\"y3\",\"domain\":[0.0,0.45]},\"yaxis3\":{\"anchor\":\"x3\",\"domain\":[0.0,0.375]},\"xaxis4\":{\"anchor\":\"y4\",\"domain\":[0.55,1.0]},\"yaxis4\":{\"anchor\":\"x4\",\"domain\":[0.0,0.375]},\"annotations\":[{\"font\":{\"size\":16},\"showarrow\":false,\"text\":\"SimpleModel\",\"x\":0.225,\"xanchor\":\"center\",\"xref\":\"paper\",\"y\":1.0,\"yanchor\":\"bottom\",\"yref\":\"paper\"},{\"font\":{\"size\":16},\"showarrow\":false,\"text\":\"ExpertModel\",\"x\":0.775,\"xanchor\":\"center\",\"xref\":\"paper\",\"y\":1.0,\"yanchor\":\"bottom\",\"yref\":\"paper\"},{\"font\":{\"size\":16},\"showarrow\":false,\"text\":\"BranchModel\",\"x\":0.225,\"xanchor\":\"center\",\"xref\":\"paper\",\"y\":0.375,\"yanchor\":\"bottom\",\"yref\":\"paper\"},{\"font\":{\"size\":16},\"showarrow\":false,\"text\":\"MasseModel\",\"x\":0.775,\"xanchor\":\"center\",\"xref\":\"paper\",\"y\":0.375,\"yanchor\":\"bottom\",\"yref\":\"paper\"}],\"title\":{\"text\":\"Model Performance Comparison across Different Hyperparameters\"},\"height\":600,\"width\":700},                        {\"responsive\": true}                    ).then(function(){\n",
       "                            \n",
       "var gd = document.getElementById('f8f99e70-069e-42e4-ad2c-a2604a120c77');\n",
       "var x = new MutationObserver(function (mutations, observer) {{\n",
       "        var display = window.getComputedStyle(gd).display;\n",
       "        if (!display || display === 'none') {{\n",
       "            console.log([gd, 'removed!']);\n",
       "            Plotly.purge(gd);\n",
       "            observer.disconnect();\n",
       "        }}\n",
       "}});\n",
       "\n",
       "// Listen for the removal of the full notebook cells\n",
       "var notebookContainer = gd.closest('#notebook-container');\n",
       "if (notebookContainer) {{\n",
       "    x.observe(notebookContainer, {childList: true});\n",
       "}}\n",
       "\n",
       "// Listen for the clearing of the current output cell\n",
       "var outputEl = gd.closest('.output');\n",
       "if (outputEl) {{\n",
       "    x.observe(outputEl, {childList: true});\n",
       "}}\n",
       "\n",
       "                        })                };                });            </script>        </div>"
      ]
     },
     "metadata": {},
     "output_type": "display_data"
    }
   ],
   "source": [
    "def create_heatmap(data):\n",
    "    # Convert list of dicts to DataFrame\n",
    "    df = pd.DataFrame(data)\n",
    "    \n",
    "    # Unique models, learning rates, and batch sizes\n",
    "    models = df['model_name'].unique()\n",
    "    lrs = sorted(df['lr'].unique(), reverse=True)\n",
    "    batch_sizes = sorted(df['batch_size'].unique())\n",
    "\n",
    "    # Create a subplot figure with 2 rows and 2 columns\n",
    "    fig = make_subplots(rows=2, cols=2, subplot_titles=models[:4])\n",
    "\n",
    "    # Iterate over the first four models to create a heatmap for each\n",
    "    for i, model in enumerate(models[:4], 1):\n",
    "        # Filter data for the current model\n",
    "        filtered_df = df[df['model_name'] == model]\n",
    "        \n",
    "        # Create heatmap data\n",
    "        z = filtered_df.pivot_table(index='lr', columns='batch_size', values='ave_mean_accuracy').reindex(index=lrs, columns=batch_sizes)\n",
    "        \n",
    "        # Determine the position in the subplot\n",
    "        row = (i-1) // 2 + 1\n",
    "        col = (i-1) % 2 + 1\n",
    "        \n",
    "        # Add heatmap to the appropriate subplot\n",
    "        fig.add_trace(\n",
    "            go.Heatmap(\n",
    "                x=z.columns.astype(str),\n",
    "                y=z.index.astype(str),\n",
    "                z=z.values,\n",
    "                colorbar=dict(title='Mean Accuracy'),\n",
    "                showscale=(i == len(models[:4]))  # Only show the scale for the last plot\n",
    "            ),\n",
    "            row=row, col=col\n",
    "        )\n",
    "\n",
    "    # Update layout to better fit subplots\n",
    "    fig.update_layout(\n",
    "        height=600,  # Adjust the height\n",
    "        width=700,  # Adjust the width\n",
    "        title_text=\"Model Performance Comparison across Different Hyperparameters\"\n",
    "    )\n",
    "    \n",
    "    # fig.update_yaxes(type='log')  # Apply log scale to y-axes\n",
    "\n",
    "    fig.show()\n",
    "\n",
    "\n",
    "create_heatmap(final_results)"
   ]
  },
  {
   "cell_type": "code",
   "execution_count": 42,
   "metadata": {},
   "outputs": [
    {
     "data": {
      "application/vnd.plotly.v1+json": {
       "config": {
        "plotlyServerURL": "https://plot.ly"
       },
       "data": [
        {
         "error_y": {
          "array": [
           1.1956405010438103,
           0.7841495777741501,
           8.050051653925928,
           0.6437074998208162
          ],
          "type": "data",
          "visible": true
         },
         "line": {
          "color": "blue"
         },
         "mode": "lines+markers",
         "name": "SimpleModel",
         "showlegend": true,
         "type": "scatter",
         "x": [
          0.0001,
          0.001,
          0.01,
          0.1
         ],
         "xaxis": "x",
         "y": [
          97.359125,
          96.637625,
          28.045791666666663,
          10.473875
         ],
         "yaxis": "y"
        },
        {
         "error_y": {
          "array": [
           1.1981474237154925,
           0.8573279199220174,
           7.167828956043837,
           0.6548792318189183
          ],
          "type": "data",
          "visible": true
         },
         "line": {
          "color": "orange"
         },
         "mode": "lines+markers",
         "name": "ExpertModel",
         "showlegend": true,
         "type": "scatter",
         "x": [
          0.0001,
          0.001,
          0.01,
          0.1
         ],
         "xaxis": "x",
         "y": [
          97.35454166666668,
          96.64462499999999,
          37.59679166666667,
          10.472958333333334
         ],
         "yaxis": "y"
        },
        {
         "error_y": {
          "array": [
           2.0406574823235677,
           0.8928378259202429,
           1.8478399296837364,
           0.662842286063217
          ],
          "type": "data",
          "visible": true
         },
         "line": {
          "color": "green"
         },
         "mode": "lines+markers",
         "name": "BranchModel",
         "showlegend": true,
         "type": "scatter",
         "x": [
          0.0001,
          0.001,
          0.01,
          0.1
         ],
         "xaxis": "x",
         "y": [
          96.269125,
          97.24533333333333,
          85.83970833333333,
          10.527458333333335
         ],
         "yaxis": "y"
        },
        {
         "error_y": {
          "array": [
           1.4532311337408488,
           1.0779330791744157,
           9.306201470770448,
           0.00044876373393186263
          ],
          "type": "data",
          "visible": true
         },
         "line": {
          "color": "red"
         },
         "mode": "lines+markers",
         "name": "MasseModel",
         "showlegend": true,
         "type": "scatter",
         "x": [
          0.0001,
          0.001,
          0.01,
          0.1
         ],
         "xaxis": "x",
         "y": [
          96.52154166666666,
          94.26816666666666,
          26.931749999999994,
          9.80008333333333
         ],
         "yaxis": "y"
        },
        {
         "error_y": {
          "array": [
           0.7160720014758546,
           3.04169540137497,
           2.893461153657325,
           4.022320676056556
          ],
          "type": "data",
          "visible": true
         },
         "line": {
          "color": "blue"
         },
         "mode": "lines+markers",
         "name": "SimpleModel",
         "showlegend": false,
         "type": "scatter",
         "x": [
          32,
          64,
          128,
          256
         ],
         "xaxis": "x2",
         "y": [
          53.66304166666667,
          57.11529166666666,
          61.32729166666666,
          60.41079166666667
         ],
         "yaxis": "y2"
        },
        {
         "error_y": {
          "array": [
           1.647909404285524,
           2.752034377326832,
           2.9836602660369778,
           2.494579483850931
          ],
          "type": "data",
          "visible": true
         },
         "line": {
          "color": "orange"
         },
         "mode": "lines+markers",
         "name": "ExpertModel",
         "showlegend": false,
         "type": "scatter",
         "x": [
          32,
          64,
          128,
          256
         ],
         "xaxis": "x2",
         "y": [
          55.093666666666664,
          58.44808333333334,
          61.87345833333333,
          66.65370833333333
         ],
         "yaxis": "y2"
        },
        {
         "error_y": {
          "array": [
           1.900798252362522,
           1.1140904370626152,
           1.196284674885062,
           1.2330041596805648
          ],
          "type": "data",
          "visible": true
         },
         "line": {
          "color": "green"
         },
         "mode": "lines+markers",
         "name": "BranchModel",
         "showlegend": false,
         "type": "scatter",
         "x": [
          32,
          64,
          128,
          256
         ],
         "xaxis": "x2",
         "y": [
          70.16083333333333,
          72.8845,
          73.40004166666667,
          73.43625
         ],
         "yaxis": "y2"
        },
        {
         "error_y": {
          "array": [
           1.5890868949501085,
           2.0320985041744333,
           2.8956732194781094,
           5.320955828816993
          ],
          "type": "data",
          "visible": true
         },
         "line": {
          "color": "red"
         },
         "mode": "lines+markers",
         "name": "MasseModel",
         "showlegend": false,
         "type": "scatter",
         "x": [
          32,
          64,
          128,
          256
         ],
         "xaxis": "x2",
         "y": [
          53.154958333333326,
          56.32283333333332,
          58.959083333333325,
          59.084666666666664
         ],
         "yaxis": "y2"
        }
       ],
       "layout": {
        "annotations": [
         {
          "font": {
           "size": 16
          },
          "showarrow": false,
          "text": "Mean Accuracy vs. Learning Rate",
          "x": 0.225,
          "xanchor": "center",
          "xref": "paper",
          "y": 1,
          "yanchor": "bottom",
          "yref": "paper"
         },
         {
          "font": {
           "size": 16
          },
          "showarrow": false,
          "text": "Mean Accuracy vs. Batch Size",
          "x": 0.775,
          "xanchor": "center",
          "xref": "paper",
          "y": 1,
          "yanchor": "bottom",
          "yref": "paper"
         }
        ],
        "height": 600,
        "template": {
         "data": {
          "bar": [
           {
            "error_x": {
             "color": "#2a3f5f"
            },
            "error_y": {
             "color": "#2a3f5f"
            },
            "marker": {
             "line": {
              "color": "#E5ECF6",
              "width": 0.5
             },
             "pattern": {
              "fillmode": "overlay",
              "size": 10,
              "solidity": 0.2
             }
            },
            "type": "bar"
           }
          ],
          "barpolar": [
           {
            "marker": {
             "line": {
              "color": "#E5ECF6",
              "width": 0.5
             },
             "pattern": {
              "fillmode": "overlay",
              "size": 10,
              "solidity": 0.2
             }
            },
            "type": "barpolar"
           }
          ],
          "carpet": [
           {
            "aaxis": {
             "endlinecolor": "#2a3f5f",
             "gridcolor": "white",
             "linecolor": "white",
             "minorgridcolor": "white",
             "startlinecolor": "#2a3f5f"
            },
            "baxis": {
             "endlinecolor": "#2a3f5f",
             "gridcolor": "white",
             "linecolor": "white",
             "minorgridcolor": "white",
             "startlinecolor": "#2a3f5f"
            },
            "type": "carpet"
           }
          ],
          "choropleth": [
           {
            "colorbar": {
             "outlinewidth": 0,
             "ticks": ""
            },
            "type": "choropleth"
           }
          ],
          "contour": [
           {
            "colorbar": {
             "outlinewidth": 0,
             "ticks": ""
            },
            "colorscale": [
             [
              0,
              "#0d0887"
             ],
             [
              0.1111111111111111,
              "#46039f"
             ],
             [
              0.2222222222222222,
              "#7201a8"
             ],
             [
              0.3333333333333333,
              "#9c179e"
             ],
             [
              0.4444444444444444,
              "#bd3786"
             ],
             [
              0.5555555555555556,
              "#d8576b"
             ],
             [
              0.6666666666666666,
              "#ed7953"
             ],
             [
              0.7777777777777778,
              "#fb9f3a"
             ],
             [
              0.8888888888888888,
              "#fdca26"
             ],
             [
              1,
              "#f0f921"
             ]
            ],
            "type": "contour"
           }
          ],
          "contourcarpet": [
           {
            "colorbar": {
             "outlinewidth": 0,
             "ticks": ""
            },
            "type": "contourcarpet"
           }
          ],
          "heatmap": [
           {
            "colorbar": {
             "outlinewidth": 0,
             "ticks": ""
            },
            "colorscale": [
             [
              0,
              "#0d0887"
             ],
             [
              0.1111111111111111,
              "#46039f"
             ],
             [
              0.2222222222222222,
              "#7201a8"
             ],
             [
              0.3333333333333333,
              "#9c179e"
             ],
             [
              0.4444444444444444,
              "#bd3786"
             ],
             [
              0.5555555555555556,
              "#d8576b"
             ],
             [
              0.6666666666666666,
              "#ed7953"
             ],
             [
              0.7777777777777778,
              "#fb9f3a"
             ],
             [
              0.8888888888888888,
              "#fdca26"
             ],
             [
              1,
              "#f0f921"
             ]
            ],
            "type": "heatmap"
           }
          ],
          "heatmapgl": [
           {
            "colorbar": {
             "outlinewidth": 0,
             "ticks": ""
            },
            "colorscale": [
             [
              0,
              "#0d0887"
             ],
             [
              0.1111111111111111,
              "#46039f"
             ],
             [
              0.2222222222222222,
              "#7201a8"
             ],
             [
              0.3333333333333333,
              "#9c179e"
             ],
             [
              0.4444444444444444,
              "#bd3786"
             ],
             [
              0.5555555555555556,
              "#d8576b"
             ],
             [
              0.6666666666666666,
              "#ed7953"
             ],
             [
              0.7777777777777778,
              "#fb9f3a"
             ],
             [
              0.8888888888888888,
              "#fdca26"
             ],
             [
              1,
              "#f0f921"
             ]
            ],
            "type": "heatmapgl"
           }
          ],
          "histogram": [
           {
            "marker": {
             "pattern": {
              "fillmode": "overlay",
              "size": 10,
              "solidity": 0.2
             }
            },
            "type": "histogram"
           }
          ],
          "histogram2d": [
           {
            "colorbar": {
             "outlinewidth": 0,
             "ticks": ""
            },
            "colorscale": [
             [
              0,
              "#0d0887"
             ],
             [
              0.1111111111111111,
              "#46039f"
             ],
             [
              0.2222222222222222,
              "#7201a8"
             ],
             [
              0.3333333333333333,
              "#9c179e"
             ],
             [
              0.4444444444444444,
              "#bd3786"
             ],
             [
              0.5555555555555556,
              "#d8576b"
             ],
             [
              0.6666666666666666,
              "#ed7953"
             ],
             [
              0.7777777777777778,
              "#fb9f3a"
             ],
             [
              0.8888888888888888,
              "#fdca26"
             ],
             [
              1,
              "#f0f921"
             ]
            ],
            "type": "histogram2d"
           }
          ],
          "histogram2dcontour": [
           {
            "colorbar": {
             "outlinewidth": 0,
             "ticks": ""
            },
            "colorscale": [
             [
              0,
              "#0d0887"
             ],
             [
              0.1111111111111111,
              "#46039f"
             ],
             [
              0.2222222222222222,
              "#7201a8"
             ],
             [
              0.3333333333333333,
              "#9c179e"
             ],
             [
              0.4444444444444444,
              "#bd3786"
             ],
             [
              0.5555555555555556,
              "#d8576b"
             ],
             [
              0.6666666666666666,
              "#ed7953"
             ],
             [
              0.7777777777777778,
              "#fb9f3a"
             ],
             [
              0.8888888888888888,
              "#fdca26"
             ],
             [
              1,
              "#f0f921"
             ]
            ],
            "type": "histogram2dcontour"
           }
          ],
          "mesh3d": [
           {
            "colorbar": {
             "outlinewidth": 0,
             "ticks": ""
            },
            "type": "mesh3d"
           }
          ],
          "parcoords": [
           {
            "line": {
             "colorbar": {
              "outlinewidth": 0,
              "ticks": ""
             }
            },
            "type": "parcoords"
           }
          ],
          "pie": [
           {
            "automargin": true,
            "type": "pie"
           }
          ],
          "scatter": [
           {
            "fillpattern": {
             "fillmode": "overlay",
             "size": 10,
             "solidity": 0.2
            },
            "type": "scatter"
           }
          ],
          "scatter3d": [
           {
            "line": {
             "colorbar": {
              "outlinewidth": 0,
              "ticks": ""
             }
            },
            "marker": {
             "colorbar": {
              "outlinewidth": 0,
              "ticks": ""
             }
            },
            "type": "scatter3d"
           }
          ],
          "scattercarpet": [
           {
            "marker": {
             "colorbar": {
              "outlinewidth": 0,
              "ticks": ""
             }
            },
            "type": "scattercarpet"
           }
          ],
          "scattergeo": [
           {
            "marker": {
             "colorbar": {
              "outlinewidth": 0,
              "ticks": ""
             }
            },
            "type": "scattergeo"
           }
          ],
          "scattergl": [
           {
            "marker": {
             "colorbar": {
              "outlinewidth": 0,
              "ticks": ""
             }
            },
            "type": "scattergl"
           }
          ],
          "scattermapbox": [
           {
            "marker": {
             "colorbar": {
              "outlinewidth": 0,
              "ticks": ""
             }
            },
            "type": "scattermapbox"
           }
          ],
          "scatterpolar": [
           {
            "marker": {
             "colorbar": {
              "outlinewidth": 0,
              "ticks": ""
             }
            },
            "type": "scatterpolar"
           }
          ],
          "scatterpolargl": [
           {
            "marker": {
             "colorbar": {
              "outlinewidth": 0,
              "ticks": ""
             }
            },
            "type": "scatterpolargl"
           }
          ],
          "scatterternary": [
           {
            "marker": {
             "colorbar": {
              "outlinewidth": 0,
              "ticks": ""
             }
            },
            "type": "scatterternary"
           }
          ],
          "surface": [
           {
            "colorbar": {
             "outlinewidth": 0,
             "ticks": ""
            },
            "colorscale": [
             [
              0,
              "#0d0887"
             ],
             [
              0.1111111111111111,
              "#46039f"
             ],
             [
              0.2222222222222222,
              "#7201a8"
             ],
             [
              0.3333333333333333,
              "#9c179e"
             ],
             [
              0.4444444444444444,
              "#bd3786"
             ],
             [
              0.5555555555555556,
              "#d8576b"
             ],
             [
              0.6666666666666666,
              "#ed7953"
             ],
             [
              0.7777777777777778,
              "#fb9f3a"
             ],
             [
              0.8888888888888888,
              "#fdca26"
             ],
             [
              1,
              "#f0f921"
             ]
            ],
            "type": "surface"
           }
          ],
          "table": [
           {
            "cells": {
             "fill": {
              "color": "#EBF0F8"
             },
             "line": {
              "color": "white"
             }
            },
            "header": {
             "fill": {
              "color": "#C8D4E3"
             },
             "line": {
              "color": "white"
             }
            },
            "type": "table"
           }
          ]
         },
         "layout": {
          "annotationdefaults": {
           "arrowcolor": "#2a3f5f",
           "arrowhead": 0,
           "arrowwidth": 1
          },
          "autotypenumbers": "strict",
          "coloraxis": {
           "colorbar": {
            "outlinewidth": 0,
            "ticks": ""
           }
          },
          "colorscale": {
           "diverging": [
            [
             0,
             "#8e0152"
            ],
            [
             0.1,
             "#c51b7d"
            ],
            [
             0.2,
             "#de77ae"
            ],
            [
             0.3,
             "#f1b6da"
            ],
            [
             0.4,
             "#fde0ef"
            ],
            [
             0.5,
             "#f7f7f7"
            ],
            [
             0.6,
             "#e6f5d0"
            ],
            [
             0.7,
             "#b8e186"
            ],
            [
             0.8,
             "#7fbc41"
            ],
            [
             0.9,
             "#4d9221"
            ],
            [
             1,
             "#276419"
            ]
           ],
           "sequential": [
            [
             0,
             "#0d0887"
            ],
            [
             0.1111111111111111,
             "#46039f"
            ],
            [
             0.2222222222222222,
             "#7201a8"
            ],
            [
             0.3333333333333333,
             "#9c179e"
            ],
            [
             0.4444444444444444,
             "#bd3786"
            ],
            [
             0.5555555555555556,
             "#d8576b"
            ],
            [
             0.6666666666666666,
             "#ed7953"
            ],
            [
             0.7777777777777778,
             "#fb9f3a"
            ],
            [
             0.8888888888888888,
             "#fdca26"
            ],
            [
             1,
             "#f0f921"
            ]
           ],
           "sequentialminus": [
            [
             0,
             "#0d0887"
            ],
            [
             0.1111111111111111,
             "#46039f"
            ],
            [
             0.2222222222222222,
             "#7201a8"
            ],
            [
             0.3333333333333333,
             "#9c179e"
            ],
            [
             0.4444444444444444,
             "#bd3786"
            ],
            [
             0.5555555555555556,
             "#d8576b"
            ],
            [
             0.6666666666666666,
             "#ed7953"
            ],
            [
             0.7777777777777778,
             "#fb9f3a"
            ],
            [
             0.8888888888888888,
             "#fdca26"
            ],
            [
             1,
             "#f0f921"
            ]
           ]
          },
          "colorway": [
           "#636efa",
           "#EF553B",
           "#00cc96",
           "#ab63fa",
           "#FFA15A",
           "#19d3f3",
           "#FF6692",
           "#B6E880",
           "#FF97FF",
           "#FECB52"
          ],
          "font": {
           "color": "#2a3f5f"
          },
          "geo": {
           "bgcolor": "white",
           "lakecolor": "white",
           "landcolor": "#E5ECF6",
           "showlakes": true,
           "showland": true,
           "subunitcolor": "white"
          },
          "hoverlabel": {
           "align": "left"
          },
          "hovermode": "closest",
          "mapbox": {
           "style": "light"
          },
          "paper_bgcolor": "white",
          "plot_bgcolor": "#E5ECF6",
          "polar": {
           "angularaxis": {
            "gridcolor": "white",
            "linecolor": "white",
            "ticks": ""
           },
           "bgcolor": "#E5ECF6",
           "radialaxis": {
            "gridcolor": "white",
            "linecolor": "white",
            "ticks": ""
           }
          },
          "scene": {
           "xaxis": {
            "backgroundcolor": "#E5ECF6",
            "gridcolor": "white",
            "gridwidth": 2,
            "linecolor": "white",
            "showbackground": true,
            "ticks": "",
            "zerolinecolor": "white"
           },
           "yaxis": {
            "backgroundcolor": "#E5ECF6",
            "gridcolor": "white",
            "gridwidth": 2,
            "linecolor": "white",
            "showbackground": true,
            "ticks": "",
            "zerolinecolor": "white"
           },
           "zaxis": {
            "backgroundcolor": "#E5ECF6",
            "gridcolor": "white",
            "gridwidth": 2,
            "linecolor": "white",
            "showbackground": true,
            "ticks": "",
            "zerolinecolor": "white"
           }
          },
          "shapedefaults": {
           "line": {
            "color": "#2a3f5f"
           }
          },
          "ternary": {
           "aaxis": {
            "gridcolor": "white",
            "linecolor": "white",
            "ticks": ""
           },
           "baxis": {
            "gridcolor": "white",
            "linecolor": "white",
            "ticks": ""
           },
           "bgcolor": "#E5ECF6",
           "caxis": {
            "gridcolor": "white",
            "linecolor": "white",
            "ticks": ""
           }
          },
          "title": {
           "x": 0.05
          },
          "xaxis": {
           "automargin": true,
           "gridcolor": "white",
           "linecolor": "white",
           "ticks": "",
           "title": {
            "standoff": 15
           },
           "zerolinecolor": "white",
           "zerolinewidth": 2
          },
          "yaxis": {
           "automargin": true,
           "gridcolor": "white",
           "linecolor": "white",
           "ticks": "",
           "title": {
            "standoff": 15
           },
           "zerolinecolor": "white",
           "zerolinewidth": 2
          }
         }
        },
        "title": {
         "text": "Comparison of Mean Accuracy Across Models"
        },
        "width": 1200,
        "xaxis": {
         "anchor": "y",
         "domain": [
          0,
          0.45
         ],
         "title": {
          "text": "Learning Rate"
         },
         "type": "category"
        },
        "xaxis2": {
         "anchor": "y2",
         "domain": [
          0.55,
          1
         ],
         "title": {
          "text": "Batch Size"
         },
         "type": "category"
        },
        "yaxis": {
         "anchor": "x",
         "domain": [
          0,
          1
         ],
         "title": {
          "text": "Mean Accuracy"
         }
        },
        "yaxis2": {
         "anchor": "x2",
         "domain": [
          0,
          1
         ],
         "title": {
          "text": "Mean Accuracy"
         }
        }
       }
      },
      "text/html": [
       "<div>                            <div id=\"014a2c1e-8d04-4e5d-a0e2-e7139775ddd8\" class=\"plotly-graph-div\" style=\"height:600px; width:1200px;\"></div>            <script type=\"text/javascript\">                require([\"plotly\"], function(Plotly) {                    window.PLOTLYENV=window.PLOTLYENV || {};                                    if (document.getElementById(\"014a2c1e-8d04-4e5d-a0e2-e7139775ddd8\")) {                    Plotly.newPlot(                        \"014a2c1e-8d04-4e5d-a0e2-e7139775ddd8\",                        [{\"error_y\":{\"array\":[1.1956405010438103,0.7841495777741501,8.050051653925928,0.6437074998208162],\"type\":\"data\",\"visible\":true},\"line\":{\"color\":\"blue\"},\"mode\":\"lines+markers\",\"name\":\"SimpleModel\",\"showlegend\":true,\"x\":[0.0001,0.001,0.01,0.1],\"y\":[97.359125,96.637625,28.045791666666663,10.473875],\"type\":\"scatter\",\"xaxis\":\"x\",\"yaxis\":\"y\"},{\"error_y\":{\"array\":[1.1981474237154925,0.8573279199220174,7.167828956043837,0.6548792318189183],\"type\":\"data\",\"visible\":true},\"line\":{\"color\":\"orange\"},\"mode\":\"lines+markers\",\"name\":\"ExpertModel\",\"showlegend\":true,\"x\":[0.0001,0.001,0.01,0.1],\"y\":[97.35454166666668,96.64462499999999,37.59679166666667,10.472958333333334],\"type\":\"scatter\",\"xaxis\":\"x\",\"yaxis\":\"y\"},{\"error_y\":{\"array\":[2.0406574823235677,0.8928378259202429,1.8478399296837364,0.662842286063217],\"type\":\"data\",\"visible\":true},\"line\":{\"color\":\"green\"},\"mode\":\"lines+markers\",\"name\":\"BranchModel\",\"showlegend\":true,\"x\":[0.0001,0.001,0.01,0.1],\"y\":[96.269125,97.24533333333333,85.83970833333333,10.527458333333335],\"type\":\"scatter\",\"xaxis\":\"x\",\"yaxis\":\"y\"},{\"error_y\":{\"array\":[1.4532311337408488,1.0779330791744157,9.306201470770448,0.00044876373393186263],\"type\":\"data\",\"visible\":true},\"line\":{\"color\":\"red\"},\"mode\":\"lines+markers\",\"name\":\"MasseModel\",\"showlegend\":true,\"x\":[0.0001,0.001,0.01,0.1],\"y\":[96.52154166666666,94.26816666666666,26.931749999999994,9.80008333333333],\"type\":\"scatter\",\"xaxis\":\"x\",\"yaxis\":\"y\"},{\"error_y\":{\"array\":[0.7160720014758546,3.04169540137497,2.893461153657325,4.022320676056556],\"type\":\"data\",\"visible\":true},\"line\":{\"color\":\"blue\"},\"mode\":\"lines+markers\",\"name\":\"SimpleModel\",\"showlegend\":false,\"x\":[32,64,128,256],\"y\":[53.66304166666667,57.11529166666666,61.32729166666666,60.41079166666667],\"type\":\"scatter\",\"xaxis\":\"x2\",\"yaxis\":\"y2\"},{\"error_y\":{\"array\":[1.647909404285524,2.752034377326832,2.9836602660369778,2.494579483850931],\"type\":\"data\",\"visible\":true},\"line\":{\"color\":\"orange\"},\"mode\":\"lines+markers\",\"name\":\"ExpertModel\",\"showlegend\":false,\"x\":[32,64,128,256],\"y\":[55.093666666666664,58.44808333333334,61.87345833333333,66.65370833333333],\"type\":\"scatter\",\"xaxis\":\"x2\",\"yaxis\":\"y2\"},{\"error_y\":{\"array\":[1.900798252362522,1.1140904370626152,1.196284674885062,1.2330041596805648],\"type\":\"data\",\"visible\":true},\"line\":{\"color\":\"green\"},\"mode\":\"lines+markers\",\"name\":\"BranchModel\",\"showlegend\":false,\"x\":[32,64,128,256],\"y\":[70.16083333333333,72.8845,73.40004166666667,73.43625],\"type\":\"scatter\",\"xaxis\":\"x2\",\"yaxis\":\"y2\"},{\"error_y\":{\"array\":[1.5890868949501085,2.0320985041744333,2.8956732194781094,5.320955828816993],\"type\":\"data\",\"visible\":true},\"line\":{\"color\":\"red\"},\"mode\":\"lines+markers\",\"name\":\"MasseModel\",\"showlegend\":false,\"x\":[32,64,128,256],\"y\":[53.154958333333326,56.32283333333332,58.959083333333325,59.084666666666664],\"type\":\"scatter\",\"xaxis\":\"x2\",\"yaxis\":\"y2\"}],                        {\"template\":{\"data\":{\"histogram2dcontour\":[{\"type\":\"histogram2dcontour\",\"colorbar\":{\"outlinewidth\":0,\"ticks\":\"\"},\"colorscale\":[[0.0,\"#0d0887\"],[0.1111111111111111,\"#46039f\"],[0.2222222222222222,\"#7201a8\"],[0.3333333333333333,\"#9c179e\"],[0.4444444444444444,\"#bd3786\"],[0.5555555555555556,\"#d8576b\"],[0.6666666666666666,\"#ed7953\"],[0.7777777777777778,\"#fb9f3a\"],[0.8888888888888888,\"#fdca26\"],[1.0,\"#f0f921\"]]}],\"choropleth\":[{\"type\":\"choropleth\",\"colorbar\":{\"outlinewidth\":0,\"ticks\":\"\"}}],\"histogram2d\":[{\"type\":\"histogram2d\",\"colorbar\":{\"outlinewidth\":0,\"ticks\":\"\"},\"colorscale\":[[0.0,\"#0d0887\"],[0.1111111111111111,\"#46039f\"],[0.2222222222222222,\"#7201a8\"],[0.3333333333333333,\"#9c179e\"],[0.4444444444444444,\"#bd3786\"],[0.5555555555555556,\"#d8576b\"],[0.6666666666666666,\"#ed7953\"],[0.7777777777777778,\"#fb9f3a\"],[0.8888888888888888,\"#fdca26\"],[1.0,\"#f0f921\"]]}],\"heatmap\":[{\"type\":\"heatmap\",\"colorbar\":{\"outlinewidth\":0,\"ticks\":\"\"},\"colorscale\":[[0.0,\"#0d0887\"],[0.1111111111111111,\"#46039f\"],[0.2222222222222222,\"#7201a8\"],[0.3333333333333333,\"#9c179e\"],[0.4444444444444444,\"#bd3786\"],[0.5555555555555556,\"#d8576b\"],[0.6666666666666666,\"#ed7953\"],[0.7777777777777778,\"#fb9f3a\"],[0.8888888888888888,\"#fdca26\"],[1.0,\"#f0f921\"]]}],\"heatmapgl\":[{\"type\":\"heatmapgl\",\"colorbar\":{\"outlinewidth\":0,\"ticks\":\"\"},\"colorscale\":[[0.0,\"#0d0887\"],[0.1111111111111111,\"#46039f\"],[0.2222222222222222,\"#7201a8\"],[0.3333333333333333,\"#9c179e\"],[0.4444444444444444,\"#bd3786\"],[0.5555555555555556,\"#d8576b\"],[0.6666666666666666,\"#ed7953\"],[0.7777777777777778,\"#fb9f3a\"],[0.8888888888888888,\"#fdca26\"],[1.0,\"#f0f921\"]]}],\"contourcarpet\":[{\"type\":\"contourcarpet\",\"colorbar\":{\"outlinewidth\":0,\"ticks\":\"\"}}],\"contour\":[{\"type\":\"contour\",\"colorbar\":{\"outlinewidth\":0,\"ticks\":\"\"},\"colorscale\":[[0.0,\"#0d0887\"],[0.1111111111111111,\"#46039f\"],[0.2222222222222222,\"#7201a8\"],[0.3333333333333333,\"#9c179e\"],[0.4444444444444444,\"#bd3786\"],[0.5555555555555556,\"#d8576b\"],[0.6666666666666666,\"#ed7953\"],[0.7777777777777778,\"#fb9f3a\"],[0.8888888888888888,\"#fdca26\"],[1.0,\"#f0f921\"]]}],\"surface\":[{\"type\":\"surface\",\"colorbar\":{\"outlinewidth\":0,\"ticks\":\"\"},\"colorscale\":[[0.0,\"#0d0887\"],[0.1111111111111111,\"#46039f\"],[0.2222222222222222,\"#7201a8\"],[0.3333333333333333,\"#9c179e\"],[0.4444444444444444,\"#bd3786\"],[0.5555555555555556,\"#d8576b\"],[0.6666666666666666,\"#ed7953\"],[0.7777777777777778,\"#fb9f3a\"],[0.8888888888888888,\"#fdca26\"],[1.0,\"#f0f921\"]]}],\"mesh3d\":[{\"type\":\"mesh3d\",\"colorbar\":{\"outlinewidth\":0,\"ticks\":\"\"}}],\"scatter\":[{\"fillpattern\":{\"fillmode\":\"overlay\",\"size\":10,\"solidity\":0.2},\"type\":\"scatter\"}],\"parcoords\":[{\"type\":\"parcoords\",\"line\":{\"colorbar\":{\"outlinewidth\":0,\"ticks\":\"\"}}}],\"scatterpolargl\":[{\"type\":\"scatterpolargl\",\"marker\":{\"colorbar\":{\"outlinewidth\":0,\"ticks\":\"\"}}}],\"bar\":[{\"error_x\":{\"color\":\"#2a3f5f\"},\"error_y\":{\"color\":\"#2a3f5f\"},\"marker\":{\"line\":{\"color\":\"#E5ECF6\",\"width\":0.5},\"pattern\":{\"fillmode\":\"overlay\",\"size\":10,\"solidity\":0.2}},\"type\":\"bar\"}],\"scattergeo\":[{\"type\":\"scattergeo\",\"marker\":{\"colorbar\":{\"outlinewidth\":0,\"ticks\":\"\"}}}],\"scatterpolar\":[{\"type\":\"scatterpolar\",\"marker\":{\"colorbar\":{\"outlinewidth\":0,\"ticks\":\"\"}}}],\"histogram\":[{\"marker\":{\"pattern\":{\"fillmode\":\"overlay\",\"size\":10,\"solidity\":0.2}},\"type\":\"histogram\"}],\"scattergl\":[{\"type\":\"scattergl\",\"marker\":{\"colorbar\":{\"outlinewidth\":0,\"ticks\":\"\"}}}],\"scatter3d\":[{\"type\":\"scatter3d\",\"line\":{\"colorbar\":{\"outlinewidth\":0,\"ticks\":\"\"}},\"marker\":{\"colorbar\":{\"outlinewidth\":0,\"ticks\":\"\"}}}],\"scattermapbox\":[{\"type\":\"scattermapbox\",\"marker\":{\"colorbar\":{\"outlinewidth\":0,\"ticks\":\"\"}}}],\"scatterternary\":[{\"type\":\"scatterternary\",\"marker\":{\"colorbar\":{\"outlinewidth\":0,\"ticks\":\"\"}}}],\"scattercarpet\":[{\"type\":\"scattercarpet\",\"marker\":{\"colorbar\":{\"outlinewidth\":0,\"ticks\":\"\"}}}],\"carpet\":[{\"aaxis\":{\"endlinecolor\":\"#2a3f5f\",\"gridcolor\":\"white\",\"linecolor\":\"white\",\"minorgridcolor\":\"white\",\"startlinecolor\":\"#2a3f5f\"},\"baxis\":{\"endlinecolor\":\"#2a3f5f\",\"gridcolor\":\"white\",\"linecolor\":\"white\",\"minorgridcolor\":\"white\",\"startlinecolor\":\"#2a3f5f\"},\"type\":\"carpet\"}],\"table\":[{\"cells\":{\"fill\":{\"color\":\"#EBF0F8\"},\"line\":{\"color\":\"white\"}},\"header\":{\"fill\":{\"color\":\"#C8D4E3\"},\"line\":{\"color\":\"white\"}},\"type\":\"table\"}],\"barpolar\":[{\"marker\":{\"line\":{\"color\":\"#E5ECF6\",\"width\":0.5},\"pattern\":{\"fillmode\":\"overlay\",\"size\":10,\"solidity\":0.2}},\"type\":\"barpolar\"}],\"pie\":[{\"automargin\":true,\"type\":\"pie\"}]},\"layout\":{\"autotypenumbers\":\"strict\",\"colorway\":[\"#636efa\",\"#EF553B\",\"#00cc96\",\"#ab63fa\",\"#FFA15A\",\"#19d3f3\",\"#FF6692\",\"#B6E880\",\"#FF97FF\",\"#FECB52\"],\"font\":{\"color\":\"#2a3f5f\"},\"hovermode\":\"closest\",\"hoverlabel\":{\"align\":\"left\"},\"paper_bgcolor\":\"white\",\"plot_bgcolor\":\"#E5ECF6\",\"polar\":{\"bgcolor\":\"#E5ECF6\",\"angularaxis\":{\"gridcolor\":\"white\",\"linecolor\":\"white\",\"ticks\":\"\"},\"radialaxis\":{\"gridcolor\":\"white\",\"linecolor\":\"white\",\"ticks\":\"\"}},\"ternary\":{\"bgcolor\":\"#E5ECF6\",\"aaxis\":{\"gridcolor\":\"white\",\"linecolor\":\"white\",\"ticks\":\"\"},\"baxis\":{\"gridcolor\":\"white\",\"linecolor\":\"white\",\"ticks\":\"\"},\"caxis\":{\"gridcolor\":\"white\",\"linecolor\":\"white\",\"ticks\":\"\"}},\"coloraxis\":{\"colorbar\":{\"outlinewidth\":0,\"ticks\":\"\"}},\"colorscale\":{\"sequential\":[[0.0,\"#0d0887\"],[0.1111111111111111,\"#46039f\"],[0.2222222222222222,\"#7201a8\"],[0.3333333333333333,\"#9c179e\"],[0.4444444444444444,\"#bd3786\"],[0.5555555555555556,\"#d8576b\"],[0.6666666666666666,\"#ed7953\"],[0.7777777777777778,\"#fb9f3a\"],[0.8888888888888888,\"#fdca26\"],[1.0,\"#f0f921\"]],\"sequentialminus\":[[0.0,\"#0d0887\"],[0.1111111111111111,\"#46039f\"],[0.2222222222222222,\"#7201a8\"],[0.3333333333333333,\"#9c179e\"],[0.4444444444444444,\"#bd3786\"],[0.5555555555555556,\"#d8576b\"],[0.6666666666666666,\"#ed7953\"],[0.7777777777777778,\"#fb9f3a\"],[0.8888888888888888,\"#fdca26\"],[1.0,\"#f0f921\"]],\"diverging\":[[0,\"#8e0152\"],[0.1,\"#c51b7d\"],[0.2,\"#de77ae\"],[0.3,\"#f1b6da\"],[0.4,\"#fde0ef\"],[0.5,\"#f7f7f7\"],[0.6,\"#e6f5d0\"],[0.7,\"#b8e186\"],[0.8,\"#7fbc41\"],[0.9,\"#4d9221\"],[1,\"#276419\"]]},\"xaxis\":{\"gridcolor\":\"white\",\"linecolor\":\"white\",\"ticks\":\"\",\"title\":{\"standoff\":15},\"zerolinecolor\":\"white\",\"automargin\":true,\"zerolinewidth\":2},\"yaxis\":{\"gridcolor\":\"white\",\"linecolor\":\"white\",\"ticks\":\"\",\"title\":{\"standoff\":15},\"zerolinecolor\":\"white\",\"automargin\":true,\"zerolinewidth\":2},\"scene\":{\"xaxis\":{\"backgroundcolor\":\"#E5ECF6\",\"gridcolor\":\"white\",\"linecolor\":\"white\",\"showbackground\":true,\"ticks\":\"\",\"zerolinecolor\":\"white\",\"gridwidth\":2},\"yaxis\":{\"backgroundcolor\":\"#E5ECF6\",\"gridcolor\":\"white\",\"linecolor\":\"white\",\"showbackground\":true,\"ticks\":\"\",\"zerolinecolor\":\"white\",\"gridwidth\":2},\"zaxis\":{\"backgroundcolor\":\"#E5ECF6\",\"gridcolor\":\"white\",\"linecolor\":\"white\",\"showbackground\":true,\"ticks\":\"\",\"zerolinecolor\":\"white\",\"gridwidth\":2}},\"shapedefaults\":{\"line\":{\"color\":\"#2a3f5f\"}},\"annotationdefaults\":{\"arrowcolor\":\"#2a3f5f\",\"arrowhead\":0,\"arrowwidth\":1},\"geo\":{\"bgcolor\":\"white\",\"landcolor\":\"#E5ECF6\",\"subunitcolor\":\"white\",\"showland\":true,\"showlakes\":true,\"lakecolor\":\"white\"},\"title\":{\"x\":0.05},\"mapbox\":{\"style\":\"light\"}}},\"xaxis\":{\"anchor\":\"y\",\"domain\":[0.0,0.45],\"title\":{\"text\":\"Learning Rate\"},\"type\":\"category\"},\"yaxis\":{\"anchor\":\"x\",\"domain\":[0.0,1.0],\"title\":{\"text\":\"Mean Accuracy\"}},\"xaxis2\":{\"anchor\":\"y2\",\"domain\":[0.55,1.0],\"title\":{\"text\":\"Batch Size\"},\"type\":\"category\"},\"yaxis2\":{\"anchor\":\"x2\",\"domain\":[0.0,1.0],\"title\":{\"text\":\"Mean Accuracy\"}},\"annotations\":[{\"font\":{\"size\":16},\"showarrow\":false,\"text\":\"Mean Accuracy vs. Learning Rate\",\"x\":0.225,\"xanchor\":\"center\",\"xref\":\"paper\",\"y\":1.0,\"yanchor\":\"bottom\",\"yref\":\"paper\"},{\"font\":{\"size\":16},\"showarrow\":false,\"text\":\"Mean Accuracy vs. Batch Size\",\"x\":0.775,\"xanchor\":\"center\",\"xref\":\"paper\",\"y\":1.0,\"yanchor\":\"bottom\",\"yref\":\"paper\"}],\"title\":{\"text\":\"Comparison of Mean Accuracy Across Models\"},\"height\":600,\"width\":1200},                        {\"responsive\": true}                    ).then(function(){\n",
       "                            \n",
       "var gd = document.getElementById('014a2c1e-8d04-4e5d-a0e2-e7139775ddd8');\n",
       "var x = new MutationObserver(function (mutations, observer) {{\n",
       "        var display = window.getComputedStyle(gd).display;\n",
       "        if (!display || display === 'none') {{\n",
       "            console.log([gd, 'removed!']);\n",
       "            Plotly.purge(gd);\n",
       "            observer.disconnect();\n",
       "        }}\n",
       "}});\n",
       "\n",
       "// Listen for the removal of the full notebook cells\n",
       "var notebookContainer = gd.closest('#notebook-container');\n",
       "if (notebookContainer) {{\n",
       "    x.observe(notebookContainer, {childList: true});\n",
       "}}\n",
       "\n",
       "// Listen for the clearing of the current output cell\n",
       "var outputEl = gd.closest('.output');\n",
       "if (outputEl) {{\n",
       "    x.observe(outputEl, {childList: true});\n",
       "}}\n",
       "\n",
       "                        })                };                });            </script>        </div>"
      ]
     },
     "metadata": {},
     "output_type": "display_data"
    }
   ],
   "source": [
    "def create_comparison_plots(data):\n",
    "    df = pd.DataFrame(data)\n",
    "    \n",
    "    # Create two subplots: one for lr vs. mean accuracy, another for batch_size vs. mean accuracy\n",
    "    fig = make_subplots(rows=1, cols=2, subplot_titles=('Mean Accuracy vs. Learning Rate', 'Mean Accuracy vs. Batch Size'))\n",
    "    \n",
    "    # Unique models\n",
    "    models = df['model_name'].unique()\n",
    "    \n",
    "    # Define specific colors for visibility and consistency\n",
    "    colors = {\n",
    "        models[0]: 'blue',   # Blue for the first model\n",
    "        models[1]: 'orange', # Orange for the second model\n",
    "        models[2]: 'green',  # Green for the third model\n",
    "        models[3]: 'red'     # Red for the fourth model\n",
    "    }\n",
    "    \n",
    "    # First plot: lr vs. mean accuracy\n",
    "    for i, model in enumerate(models):\n",
    "        filtered_df = df[df['model_name'] == model]\n",
    "        grouped = filtered_df.groupby('lr').agg({'ave_mean_accuracy': 'mean', 'std_mean_accuracy': 'mean'})\n",
    "        \n",
    "        fig.add_trace(\n",
    "            go.Scatter(\n",
    "                x=grouped.index,\n",
    "                y=grouped['ave_mean_accuracy'],\n",
    "                error_y=dict(type='data', array=grouped['std_mean_accuracy'], visible=True),\n",
    "                mode='lines+markers',\n",
    "                name=model,\n",
    "                line=dict(color=colors[model]),\n",
    "                showlegend=True  # Ensure legend is shown for all models in the first subplot\n",
    "            ), row=1, col=1\n",
    "        )\n",
    "    \n",
    "    # Second plot: batch_size vs. mean accuracy\n",
    "    for i, model in enumerate(models):\n",
    "        filtered_df = df[df['model_name'] == model]\n",
    "        grouped = filtered_df.groupby('batch_size').agg({'ave_mean_accuracy': 'mean', 'std_mean_accuracy': 'mean'})\n",
    "        \n",
    "        fig.add_trace(\n",
    "            go.Scatter(\n",
    "                x=grouped.index,\n",
    "                y=grouped['ave_mean_accuracy'],\n",
    "                error_y=dict(type='data', array=grouped['std_mean_accuracy'], visible=True),\n",
    "                mode='lines+markers',\n",
    "                name=model,\n",
    "                line=dict(color=colors[model]),\n",
    "                showlegend=False  # Hide legend for this subplot to avoid repetition\n",
    "            ), row=1, col=2\n",
    "        )\n",
    "    \n",
    "    # Update layout\n",
    "    fig.update_layout(height=600, width=1200, title_text=\"Comparison of Mean Accuracy Across Models\")\n",
    "    \n",
    "    # Update axes\n",
    "    fig.update_xaxes(title_text=\"Learning Rate\", type='category', row=1, col=1)\n",
    "    fig.update_yaxes(title_text=\"Mean Accuracy\", row=1, col=1)\n",
    "    fig.update_xaxes(title_text=\"Batch Size\", type='category', row=1, col=2)\n",
    "    fig.update_yaxes(title_text=\"Mean Accuracy\", row=1, col=2)\n",
    "    \n",
    "    fig.show()\n",
    "    \n",
    "create_comparison_plots(final_results)"
   ]
  },
  {
   "cell_type": "code",
   "execution_count": 43,
   "metadata": {},
   "outputs": [],
   "source": [
    "def find_best_hyperparameters(data):\n",
    "    # Convert the list of dictionaries into a DataFrame\n",
    "    df = pd.DataFrame(data)\n",
    "    \n",
    "    # Group by 'lr' and 'batch_size', calculate the average mean accuracy across all models\n",
    "    grouped = df.groupby(['lr', 'batch_size'])['ave_mean_accuracy'].mean().reset_index()\n",
    "    \n",
    "    # Find the row with the highest average mean accuracy\n",
    "    best_combination = grouped[grouped['ave_mean_accuracy'] == grouped['ave_mean_accuracy'].max()]\n",
    "    \n",
    "    # If there are multiple rows with the same max value, you can decide how to handle (e.g., take the first, average them, etc.)\n",
    "    best_combination = best_combination.iloc[0] if not best_combination.empty else None\n",
    "    \n",
    "    # Return the best combination as a dictionary if found\n",
    "    return {\n",
    "        'lr': best_combination['lr'],\n",
    "        'batch_size': best_combination['batch_size'],\n",
    "        'ave_mean_accuracy': best_combination['ave_mean_accuracy']\n",
    "    } if best_combination is not None else \"No best combination found\""
   ]
  },
  {
   "cell_type": "code",
   "execution_count": 44,
   "metadata": {},
   "outputs": [
    {
     "name": "stdout",
     "output_type": "stream",
     "text": [
      "Best hyperparameters combination: {'lr': 0.0001, 'batch_size': 32.0, 'ave_mean_accuracy': 97.26050000000001}\n"
     ]
    }
   ],
   "source": [
    "best_hyperparameters = find_best_hyperparameters(final_results)\n",
    "print(\"Best hyperparameters combination:\", best_hyperparameters)\n"
   ]
  },
  {
   "cell_type": "code",
   "execution_count": null,
   "metadata": {},
   "outputs": [],
   "source": []
  }
 ],
 "metadata": {
  "kernelspec": {
   "display_name": "data-science",
   "language": "python",
   "name": "python3"
  },
  "language_info": {
   "codemirror_mode": {
    "name": "ipython",
    "version": 3
   },
   "file_extension": ".py",
   "mimetype": "text/x-python",
   "name": "python",
   "nbconvert_exporter": "python",
   "pygments_lexer": "ipython3",
   "version": "3.9.12"
  }
 },
 "nbformat": 4,
 "nbformat_minor": 2
}
