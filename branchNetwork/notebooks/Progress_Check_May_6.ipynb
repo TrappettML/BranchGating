{
 "cells": [
  {
   "cell_type": "markdown",
   "metadata": {},
   "source": [
    "# Dendritic Branch Gating\n",
    "A few papers show that thalamic axons terminate on dendritic shafts of the basal ganglia. These thalamic neurons modulate the activity of many synapses at once as opposed to modulating the activity of single synapses. First we create a branching architecture, then we create a gating layer to gate the branches. "
   ]
  }
 ],
 "metadata": {
  "language_info": {
   "name": "python"
  }
 },
 "nbformat": 4,
 "nbformat_minor": 2
}
